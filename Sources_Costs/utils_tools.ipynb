{
 "cells": [
  {
   "cell_type": "code",
   "execution_count": 1,
   "metadata": {},
   "outputs": [],
   "source": [
    "import pandas as pd\n",
    "import os\n",
    "import codecs\n",
    "import csv\n",
    "\n",
    "import numpy as np\n",
    "\n",
    "import sys\n",
    "import copy"
   ]
  },
  {
   "cell_type": "code",
   "execution_count": 6,
   "metadata": {},
   "outputs": [],
   "source": [
    "from geopy.geocoders import Nominatim\n",
    "from functools import partial"
   ]
  },
  {
   "cell_type": "code",
   "execution_count": 4,
   "metadata": {},
   "outputs": [],
   "source": [
    "def readCsv(path):\n",
    "    \n",
    "    origen_wd = os.getcwd()\n",
    "    os.chdir(origen_wd + path)\n",
    "    system = {}\n",
    "\n",
    "    onlyfiles = [f for f in os.listdir() if os.path.isfile(f)]\n",
    "\n",
    "    #print(onlyfiles)\n",
    "    for f in onlyfiles:\n",
    "        system[f] = pd.read_csv(f, encoding='utf8')\n",
    "\n",
    "    os.chdir(origen_wd)\n",
    "    \n",
    "    return onlyfiles, system"
   ]
  },
  {
   "cell_type": "code",
   "execution_count": 7,
   "metadata": {},
   "outputs": [],
   "source": [
    "def get_location(city):\n",
    "    geolocator = Nominatim(user_agent=\"Mercurio\")\n",
    "    geocode = partial(geolocator.geocode, language=\"es\")\n",
    "    return geocode(city)"
   ]
  },
  {
   "cell_type": "code",
   "execution_count": 8,
   "metadata": {},
   "outputs": [],
   "source": [
    "#Se utiliza en el analisis H pra sacar la region y el municipio gracias a la localizacion\n",
    "def get_pais(location):\n",
    "    try:\n",
    "        pais = location.address.split(\",\")[-1].strip()\n",
    "        return pais\n",
    "    except AttributeError:        \n",
    "        pass"
   ]
  },
  {
   "cell_type": "code",
   "execution_count": 9,
   "metadata": {},
   "outputs": [],
   "source": [
    "def set_country_standard_name(regiones_):\n",
    "\t\n",
    "\tregiones_['pais'] = np.where(regiones_['pais'].isin(['Belgien','Belgique','België', 'België / Belgique / Belgien']), 'Belgium', regiones_['pais'])\n",
    "\tregiones_['pais'] = np.where(regiones_['pais'].isin(['Civitas Vaticana','San Marino', 'Italia']), 'Italy', regiones_['pais'])\n",
    "\tregiones_['pais'] = np.where(regiones_['pais'].isin(['Bosna i Hercegovina / Босна и Херцеговина']), 'Bosnia and Herzegovina', regiones_['pais'])\n",
    "\tregiones_['pais'] = np.where(regiones_['pais'].isin(['Crna Gora / Црна Гора']), 'Montenegro', regiones_['pais'])\n",
    "\tregiones_['pais'] = np.where(regiones_['pais'].isin(['Danmark']), 'Denmark', regiones_['pais'])\n",
    "\tregiones_['pais'] = np.where(regiones_['pais'].isin(['Deutschland']), 'Germany', regiones_['pais'])\n",
    "\tregiones_['pais'] = np.where(regiones_['pais'].isin(['Eesti']), 'Estonia', regiones_['pais'])\n",
    "\tregiones_['pais'] = np.where(regiones_['pais'].isin(['España']), 'Spain', regiones_['pais'])\n",
    "\tregiones_['pais'] = np.where(regiones_['pais'].isin(['Hrvatska']), 'Croatia', regiones_['pais'])\n",
    "\tregiones_['pais'] = np.where(regiones_['pais'].isin(['Latvija']), 'Latvia', regiones_['pais'])\n",
    "\tregiones_['pais'] = np.where(regiones_['pais'].isin(['Lietuva']), 'Republic of Lithuania', regiones_['pais'])\n",
    "\tregiones_['pais'] = np.where(regiones_['pais'].isin(['Luzon']), 'Philippines', regiones_['pais'])\n",
    "\tregiones_['pais'] = np.where(regiones_['pais'].isin(['Magyarország']), 'Hungary', regiones_['pais'])\n",
    "\tregiones_['pais'] = np.where(regiones_['pais'].isin(['Maroc / ⵍⵎⵖⵔⵉⴱ / المغرب']), 'Morocco', regiones_['pais'])\n",
    "\tregiones_['pais'] = np.where(regiones_['pais'].isin(['Nederland']), 'Netherlands', regiones_['pais'])\n",
    "\tregiones_['pais'] = np.where(regiones_['pais'].isin(['Norge']), 'Norway', regiones_['pais'])\n",
    "\tregiones_['pais'] = np.where(regiones_['pais'].isin(['Perú']), 'Peru', regiones_['pais'])\n",
    "\tregiones_['pais'] = np.where(regiones_['pais'].isin(['Polska']), 'Poland', regiones_['pais'])\n",
    "\tregiones_['pais'] = np.where(regiones_['pais'].isin(['România']), 'Romania', regiones_['pais'])\n",
    "\tregiones_['pais'] = np.where(regiones_['pais'].isin(['Schweiz/Suisse/Svizzera/Svizra']), 'Switzerland', regiones_['pais'])\n",
    "\tregiones_['pais'] = np.where(regiones_['pais'].isin(['Shqipëria']), 'Albania', regiones_['pais'])\n",
    "\tregiones_['pais'] = np.where(regiones_['pais'].isin(['Slovenija']), 'Slovenia', regiones_['pais'])\n",
    "\tregiones_['pais'] = np.where(regiones_['pais'].isin(['Slovensko']), 'Slovakia', regiones_['pais'])\n",
    "\tregiones_['pais'] = np.where(regiones_['pais'].isin(['Suomi / Finland']), 'Finland', regiones_['pais'])\n",
    "\tregiones_['pais'] = np.where(regiones_['pais'].isin(['Sverige']), 'Sweden', regiones_['pais'])\n",
    "\tregiones_['pais'] = np.where(regiones_['pais'].isin(['Éire / Ireland']), 'Ireland', regiones_['pais'])\n",
    "\tregiones_['pais'] = np.where(regiones_['pais'].isin(['Ísland']), 'Iceland', regiones_['pais'])\n",
    "\tregiones_['pais'] = np.where(regiones_['pais'].isin(['Österreich']), 'Austria', regiones_['pais'])\n",
    "\tregiones_['pais'] = np.where(regiones_['pais'].isin(['Česko']), 'Czechia', regiones_['pais'])\n",
    "\tregiones_['pais'] = np.where(regiones_['pais'].isin(['Ελλάς']), 'Greece', regiones_['pais'])\n",
    "\tregiones_['pais'] = np.where(regiones_['pais'].isin(['Κύπρος - Kıbrıs']), 'Cyprus', regiones_['pais'])\n",
    "\tregiones_['pais'] = np.where(regiones_['pais'].isin(['Беларусь']), 'Belarus', regiones_['pais'])\n",
    "\tregiones_['pais'] = np.where(regiones_['pais'].isin(['Бългaрия']), 'Cyprus', regiones_['pais'])\n",
    "\tregiones_['pais'] = np.where(regiones_['pais'].isin(['Бългaрия']), 'Bulgaria', regiones_['pais'])\n",
    "\tregiones_['pais'] = np.where(regiones_['pais'].isin(['Россия']), 'Russia', regiones_['pais'])\n",
    "\tregiones_['pais'] = np.where(regiones_['pais'].isin(['Северна Македонија']), 'Macedonia', regiones_['pais'])\n",
    "\tregiones_['pais'] = np.where(regiones_['pais'].isin(['Србија']), 'Serbia', regiones_['pais'])\n",
    "\tregiones_['pais'] = np.where(regiones_['pais'].isin(['السعودية']), 'Saudi Arabia', regiones_['pais'])\n",
    "\tregiones_['pais'] = np.where(regiones_['pais'].isin(['საქართველო']), 'Russia', regiones_['pais'])\n",
    "    "
   ]
  },
  {
   "cell_type": "code",
   "execution_count": 10,
   "metadata": {},
   "outputs": [],
   "source": [
    "def get_facebook_sales(df):\n",
    "    \n",
    "    facebook_instagram_ventas = df[df['referrer_name'].isin(['Instagram','Facebook'])]\n",
    "    pais_ventas = facebook_instagram_ventas.groupby('location_country').sum()\n",
    "    pais_ventas.index = pais_ventas.index.rename('pais')\n",
    "    \n",
    "    return pais_ventas\n"
   ]
  }
 ],
 "metadata": {
  "kernelspec": {
   "display_name": "Python 3",
   "language": "python",
   "name": "python3"
  },
  "language_info": {
   "codemirror_mode": {
    "name": "ipython",
    "version": 3
   },
   "file_extension": ".py",
   "mimetype": "text/x-python",
   "name": "python",
   "nbconvert_exporter": "python",
   "pygments_lexer": "ipython3",
   "version": "3.7.6"
  }
 },
 "nbformat": 4,
 "nbformat_minor": 4
}
