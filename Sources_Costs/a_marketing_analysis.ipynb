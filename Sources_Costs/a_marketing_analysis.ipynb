{
 "cells": [
  {
   "cell_type": "markdown",
   "metadata": {},
   "source": [
    "# Marketing Analytics"
   ]
  },
  {
   "cell_type": "markdown",
   "metadata": {},
   "source": []
  },
  {
   "cell_type": "code",
   "execution_count": 210,
   "metadata": {},
   "outputs": [],
   "source": [
    "from ipynb.fs.full.utils_tools import *"
   ]
  },
  {
   "cell_type": "code",
   "execution_count": 211,
   "metadata": {},
   "outputs": [],
   "source": [
    "facebook_names, facebook_data = readCsv( wd )"
   ]
  },
  {
   "cell_type": "code",
   "execution_count": 213,
   "metadata": {},
   "outputs": [
    {
     "name": "stdout",
     "output_type": "stream",
     "text": [
      "Numero de registros primer semestre: 125899\n",
      "Numero de registros segundo semestre: 122855\n",
      "Numero de registros año 2020: 248754\n"
     ]
    }
   ],
   "source": [
    "#Dado el alto volumen de registros hemos tenido que exportar la informacion en dos tablas, por lo que el primer paso sera unir los 2 semestres.\n",
    "\n",
    "facebook_table_semestre_1 = facebook_data[facebook_names[2]]\n",
    "print(\"Numero de registros primer semestre: %d\" % len(facebook_table_semestre_1))\n",
    "\n",
    "facebook_table_semestre_2 = facebook_data[facebook_names[3]]\n",
    "print(\"Numero de registros segundo semestre: %d\" % len(facebook_table_semestre_2))\n",
    "\n",
    "facebook_table = pd.concat([facebook_table_semestre_1, facebook_table_semestre_2])\n",
    "print(\"Numero de registros año 2020: %d\" % len(facebook_table))"
   ]
  },
  {
   "cell_type": "code",
   "execution_count": 214,
   "metadata": {},
   "outputs": [
    {
     "data": {
      "text/html": [
       "<div>\n",
       "<style scoped>\n",
       "    .dataframe tbody tr th:only-of-type {\n",
       "        vertical-align: middle;\n",
       "    }\n",
       "\n",
       "    .dataframe tbody tr th {\n",
       "        vertical-align: top;\n",
       "    }\n",
       "\n",
       "    .dataframe thead th {\n",
       "        text-align: right;\n",
       "    }\n",
       "</style>\n",
       "<table border=\"1\" class=\"dataframe\">\n",
       "  <thead>\n",
       "    <tr style=\"text-align: right;\">\n",
       "      <th></th>\n",
       "      <th>Día</th>\n",
       "      <th>Nombre de la campaña</th>\n",
       "      <th>Región</th>\n",
       "      <th>Alcance</th>\n",
       "      <th>Impresiones</th>\n",
       "      <th>Importe gastado (EUR)</th>\n",
       "      <th>Clics (todos)</th>\n",
       "      <th>CPC (todos)</th>\n",
       "      <th>CTR (todos)</th>\n",
       "      <th>Inicio del informe</th>\n",
       "      <th>Fin del informe</th>\n",
       "    </tr>\n",
       "  </thead>\n",
       "  <tbody>\n",
       "    <tr>\n",
       "      <th>0</th>\n",
       "      <td>2020-06-30</td>\n",
       "      <td>EU_Conversions_ProductView_Hoodie_02</td>\n",
       "      <td>Lorraine</td>\n",
       "      <td>46</td>\n",
       "      <td>47</td>\n",
       "      <td>0.00</td>\n",
       "      <td>0</td>\n",
       "      <td>NaN</td>\n",
       "      <td>0.00000</td>\n",
       "      <td>2020-06-30</td>\n",
       "      <td>2020-06-30</td>\n",
       "    </tr>\n",
       "    <tr>\n",
       "      <th>1</th>\n",
       "      <td>2020-06-30</td>\n",
       "      <td>EU_Conversions_ProductView_NapoleonMix</td>\n",
       "      <td>Lazio</td>\n",
       "      <td>667</td>\n",
       "      <td>667</td>\n",
       "      <td>0.12</td>\n",
       "      <td>6</td>\n",
       "      <td>0.02</td>\n",
       "      <td>0.89955</td>\n",
       "      <td>2020-06-30</td>\n",
       "      <td>2020-06-30</td>\n",
       "    </tr>\n",
       "    <tr>\n",
       "      <th>2</th>\n",
       "      <td>2020-06-30</td>\n",
       "      <td>EU_Conversions_ProductView_MonaLisa_Mix</td>\n",
       "      <td>Valga County</td>\n",
       "      <td>0</td>\n",
       "      <td>1</td>\n",
       "      <td>0.01</td>\n",
       "      <td>0</td>\n",
       "      <td>NaN</td>\n",
       "      <td>0.00000</td>\n",
       "      <td>2020-06-30</td>\n",
       "      <td>2020-06-30</td>\n",
       "    </tr>\n",
       "    <tr>\n",
       "      <th>3</th>\n",
       "      <td>2020-06-30</td>\n",
       "      <td>EU_Conversions_ProductView_MonaLisa_Mix</td>\n",
       "      <td>Põlva County</td>\n",
       "      <td>0</td>\n",
       "      <td>1</td>\n",
       "      <td>0.00</td>\n",
       "      <td>0</td>\n",
       "      <td>NaN</td>\n",
       "      <td>0.00000</td>\n",
       "      <td>2020-06-30</td>\n",
       "      <td>2020-06-30</td>\n",
       "    </tr>\n",
       "    <tr>\n",
       "      <th>4</th>\n",
       "      <td>2020-06-30</td>\n",
       "      <td>EU_Conversions_ProductView_MonaLisa_Mix</td>\n",
       "      <td>Hiiu County</td>\n",
       "      <td>0</td>\n",
       "      <td>1</td>\n",
       "      <td>0.00</td>\n",
       "      <td>0</td>\n",
       "      <td>NaN</td>\n",
       "      <td>0.00000</td>\n",
       "      <td>2020-06-30</td>\n",
       "      <td>2020-06-30</td>\n",
       "    </tr>\n",
       "  </tbody>\n",
       "</table>\n",
       "</div>"
      ],
      "text/plain": [
       "          Día                     Nombre de la campaña        Región  Alcance  \\\n",
       "0  2020-06-30     EU_Conversions_ProductView_Hoodie_02      Lorraine       46   \n",
       "1  2020-06-30   EU_Conversions_ProductView_NapoleonMix         Lazio      667   \n",
       "2  2020-06-30  EU_Conversions_ProductView_MonaLisa_Mix  Valga County        0   \n",
       "3  2020-06-30  EU_Conversions_ProductView_MonaLisa_Mix  Põlva County        0   \n",
       "4  2020-06-30  EU_Conversions_ProductView_MonaLisa_Mix   Hiiu County        0   \n",
       "\n",
       "   Impresiones  Importe gastado (EUR)  Clics (todos)  CPC (todos)  \\\n",
       "0           47                   0.00              0          NaN   \n",
       "1          667                   0.12              6         0.02   \n",
       "2            1                   0.01              0          NaN   \n",
       "3            1                   0.00              0          NaN   \n",
       "4            1                   0.00              0          NaN   \n",
       "\n",
       "   CTR (todos) Inicio del informe Fin del informe  \n",
       "0      0.00000         2020-06-30      2020-06-30  \n",
       "1      0.89955         2020-06-30      2020-06-30  \n",
       "2      0.00000         2020-06-30      2020-06-30  \n",
       "3      0.00000         2020-06-30      2020-06-30  \n",
       "4      0.00000         2020-06-30      2020-06-30  "
      ]
     },
     "execution_count": 214,
     "metadata": {},
     "output_type": "execute_result"
    }
   ],
   "source": [
    "facebook_table.head()"
   ]
  },
  {
   "cell_type": "code",
   "execution_count": 215,
   "metadata": {},
   "outputs": [
    {
     "data": {
      "text/html": [
       "<div>\n",
       "<style scoped>\n",
       "    .dataframe tbody tr th:only-of-type {\n",
       "        vertical-align: middle;\n",
       "    }\n",
       "\n",
       "    .dataframe tbody tr th {\n",
       "        vertical-align: top;\n",
       "    }\n",
       "\n",
       "    .dataframe thead th {\n",
       "        text-align: right;\n",
       "    }\n",
       "</style>\n",
       "<table border=\"1\" class=\"dataframe\">\n",
       "  <thead>\n",
       "    <tr style=\"text-align: right;\">\n",
       "      <th></th>\n",
       "      <th>dia</th>\n",
       "      <th>campaña</th>\n",
       "      <th>region</th>\n",
       "      <th>Alcance</th>\n",
       "      <th>Impresiones</th>\n",
       "      <th>Importe</th>\n",
       "      <th>Clics</th>\n",
       "      <th>CPC</th>\n",
       "      <th>CTR</th>\n",
       "      <th>inicio</th>\n",
       "      <th>fin</th>\n",
       "    </tr>\n",
       "  </thead>\n",
       "  <tbody>\n",
       "    <tr>\n",
       "      <th>0</th>\n",
       "      <td>2020-06-30</td>\n",
       "      <td>EU_Conversions_ProductView_Hoodie_02</td>\n",
       "      <td>Lorraine</td>\n",
       "      <td>46</td>\n",
       "      <td>47</td>\n",
       "      <td>0.00</td>\n",
       "      <td>0</td>\n",
       "      <td>NaN</td>\n",
       "      <td>0.00000</td>\n",
       "      <td>2020-06-30</td>\n",
       "      <td>2020-06-30</td>\n",
       "    </tr>\n",
       "    <tr>\n",
       "      <th>1</th>\n",
       "      <td>2020-06-30</td>\n",
       "      <td>EU_Conversions_ProductView_NapoleonMix</td>\n",
       "      <td>Lazio</td>\n",
       "      <td>667</td>\n",
       "      <td>667</td>\n",
       "      <td>0.12</td>\n",
       "      <td>6</td>\n",
       "      <td>0.02</td>\n",
       "      <td>0.89955</td>\n",
       "      <td>2020-06-30</td>\n",
       "      <td>2020-06-30</td>\n",
       "    </tr>\n",
       "    <tr>\n",
       "      <th>2</th>\n",
       "      <td>2020-06-30</td>\n",
       "      <td>EU_Conversions_ProductView_MonaLisa_Mix</td>\n",
       "      <td>Valga County</td>\n",
       "      <td>0</td>\n",
       "      <td>1</td>\n",
       "      <td>0.01</td>\n",
       "      <td>0</td>\n",
       "      <td>NaN</td>\n",
       "      <td>0.00000</td>\n",
       "      <td>2020-06-30</td>\n",
       "      <td>2020-06-30</td>\n",
       "    </tr>\n",
       "    <tr>\n",
       "      <th>3</th>\n",
       "      <td>2020-06-30</td>\n",
       "      <td>EU_Conversions_ProductView_MonaLisa_Mix</td>\n",
       "      <td>Põlva County</td>\n",
       "      <td>0</td>\n",
       "      <td>1</td>\n",
       "      <td>0.00</td>\n",
       "      <td>0</td>\n",
       "      <td>NaN</td>\n",
       "      <td>0.00000</td>\n",
       "      <td>2020-06-30</td>\n",
       "      <td>2020-06-30</td>\n",
       "    </tr>\n",
       "    <tr>\n",
       "      <th>4</th>\n",
       "      <td>2020-06-30</td>\n",
       "      <td>EU_Conversions_ProductView_MonaLisa_Mix</td>\n",
       "      <td>Hiiu County</td>\n",
       "      <td>0</td>\n",
       "      <td>1</td>\n",
       "      <td>0.00</td>\n",
       "      <td>0</td>\n",
       "      <td>NaN</td>\n",
       "      <td>0.00000</td>\n",
       "      <td>2020-06-30</td>\n",
       "      <td>2020-06-30</td>\n",
       "    </tr>\n",
       "  </tbody>\n",
       "</table>\n",
       "</div>"
      ],
      "text/plain": [
       "          dia                                  campaña        region  Alcance  \\\n",
       "0  2020-06-30     EU_Conversions_ProductView_Hoodie_02      Lorraine       46   \n",
       "1  2020-06-30   EU_Conversions_ProductView_NapoleonMix         Lazio      667   \n",
       "2  2020-06-30  EU_Conversions_ProductView_MonaLisa_Mix  Valga County        0   \n",
       "3  2020-06-30  EU_Conversions_ProductView_MonaLisa_Mix  Põlva County        0   \n",
       "4  2020-06-30  EU_Conversions_ProductView_MonaLisa_Mix   Hiiu County        0   \n",
       "\n",
       "   Impresiones  Importe  Clics   CPC      CTR      inicio         fin  \n",
       "0           47     0.00      0   NaN  0.00000  2020-06-30  2020-06-30  \n",
       "1          667     0.12      6  0.02  0.89955  2020-06-30  2020-06-30  \n",
       "2            1     0.01      0   NaN  0.00000  2020-06-30  2020-06-30  \n",
       "3            1     0.00      0   NaN  0.00000  2020-06-30  2020-06-30  \n",
       "4            1     0.00      0   NaN  0.00000  2020-06-30  2020-06-30  "
      ]
     },
     "execution_count": 215,
     "metadata": {},
     "output_type": "execute_result"
    }
   ],
   "source": [
    "#Renombramos las columnas para que sea mas facil trabajarlas\n",
    "facebook_table.columns = ['dia', 'campaña', 'region','Alcance', 'Impresiones',  'Importe', 'Clics', 'CPC', 'CTR', 'inicio', 'fin']\n",
    "facebook_table.head()"
   ]
  },
  {
   "cell_type": "code",
   "execution_count": 216,
   "metadata": {},
   "outputs": [],
   "source": [
    "#Para poder realizar nuestro estudio necesitamos saber los paises y ciudades mas que las regiones que Facebook nos facilita por lo que vamos a recurrir a la libreria geopy para rescatar esta informacion.\n",
    "regiones_ = pd.DataFrame(facebook_table.region.unique(), columns =['region'])\n",
    "regiones_['location'] = regiones_['region'].apply(get_location)\n",
    "regiones_['pais'] = regiones_['location'].apply(get_pais)"
   ]
  },
  {
   "cell_type": "code",
   "execution_count": 195,
   "metadata": {},
   "outputs": [],
   "source": [
    "set_country_standard_name(regiones_)"
   ]
  },
  {
   "cell_type": "code",
   "execution_count": 198,
   "metadata": {},
   "outputs": [
    {
     "data": {
      "text/html": [
       "<div>\n",
       "<style scoped>\n",
       "    .dataframe tbody tr th:only-of-type {\n",
       "        vertical-align: middle;\n",
       "    }\n",
       "\n",
       "    .dataframe tbody tr th {\n",
       "        vertical-align: top;\n",
       "    }\n",
       "\n",
       "    .dataframe thead th {\n",
       "        text-align: right;\n",
       "    }\n",
       "</style>\n",
       "<table border=\"1\" class=\"dataframe\">\n",
       "  <thead>\n",
       "    <tr style=\"text-align: right;\">\n",
       "      <th></th>\n",
       "      <th>region</th>\n",
       "      <th>pais</th>\n",
       "    </tr>\n",
       "  </thead>\n",
       "  <tbody>\n",
       "    <tr>\n",
       "      <th>0</th>\n",
       "      <td>Lorraine</td>\n",
       "      <td>France</td>\n",
       "    </tr>\n",
       "    <tr>\n",
       "      <th>1</th>\n",
       "      <td>Lazio</td>\n",
       "      <td>Italy</td>\n",
       "    </tr>\n",
       "    <tr>\n",
       "      <th>2</th>\n",
       "      <td>Valga County</td>\n",
       "      <td>Estonia</td>\n",
       "    </tr>\n",
       "    <tr>\n",
       "      <th>3</th>\n",
       "      <td>Põlva County</td>\n",
       "      <td>Estonia</td>\n",
       "    </tr>\n",
       "    <tr>\n",
       "      <th>4</th>\n",
       "      <td>Hiiu County</td>\n",
       "      <td>Estonia</td>\n",
       "    </tr>\n",
       "  </tbody>\n",
       "</table>\n",
       "</div>"
      ],
      "text/plain": [
       "         region     pais\n",
       "0      Lorraine   France\n",
       "1         Lazio    Italy\n",
       "2  Valga County  Estonia\n",
       "3  Põlva County  Estonia\n",
       "4   Hiiu County  Estonia"
      ]
     },
     "execution_count": 198,
     "metadata": {},
     "output_type": "execute_result"
    }
   ],
   "source": [
    "regiones = regiones_[['region', 'pais']]\n",
    "regiones.head()"
   ]
  },
  {
   "cell_type": "code",
   "execution_count": 199,
   "metadata": {},
   "outputs": [
    {
     "data": {
      "text/html": [
       "<div>\n",
       "<style scoped>\n",
       "    .dataframe tbody tr th:only-of-type {\n",
       "        vertical-align: middle;\n",
       "    }\n",
       "\n",
       "    .dataframe tbody tr th {\n",
       "        vertical-align: top;\n",
       "    }\n",
       "\n",
       "    .dataframe thead th {\n",
       "        text-align: right;\n",
       "    }\n",
       "</style>\n",
       "<table border=\"1\" class=\"dataframe\">\n",
       "  <thead>\n",
       "    <tr style=\"text-align: right;\">\n",
       "      <th></th>\n",
       "      <th>dia</th>\n",
       "      <th>campaña</th>\n",
       "      <th>region</th>\n",
       "      <th>Alcance</th>\n",
       "      <th>Impresiones</th>\n",
       "      <th>Importe</th>\n",
       "      <th>Clics</th>\n",
       "      <th>CPC</th>\n",
       "      <th>CTR</th>\n",
       "      <th>inicio</th>\n",
       "      <th>fin</th>\n",
       "      <th>pais</th>\n",
       "    </tr>\n",
       "  </thead>\n",
       "  <tbody>\n",
       "    <tr>\n",
       "      <th>0</th>\n",
       "      <td>2020-06-30</td>\n",
       "      <td>EU_Conversions_ProductView_Hoodie_02</td>\n",
       "      <td>Lorraine</td>\n",
       "      <td>46</td>\n",
       "      <td>47</td>\n",
       "      <td>0.00</td>\n",
       "      <td>0</td>\n",
       "      <td>NaN</td>\n",
       "      <td>0.00000</td>\n",
       "      <td>2020-06-30</td>\n",
       "      <td>2020-06-30</td>\n",
       "      <td>France</td>\n",
       "    </tr>\n",
       "    <tr>\n",
       "      <th>1</th>\n",
       "      <td>2020-06-30</td>\n",
       "      <td>EU_Conversions_ProductView_NapoleonMix</td>\n",
       "      <td>Lazio</td>\n",
       "      <td>667</td>\n",
       "      <td>667</td>\n",
       "      <td>0.12</td>\n",
       "      <td>6</td>\n",
       "      <td>0.02</td>\n",
       "      <td>0.89955</td>\n",
       "      <td>2020-06-30</td>\n",
       "      <td>2020-06-30</td>\n",
       "      <td>Italy</td>\n",
       "    </tr>\n",
       "    <tr>\n",
       "      <th>2</th>\n",
       "      <td>2020-06-30</td>\n",
       "      <td>EU_Conversions_ProductView_MonaLisa_Mix</td>\n",
       "      <td>Valga County</td>\n",
       "      <td>0</td>\n",
       "      <td>1</td>\n",
       "      <td>0.01</td>\n",
       "      <td>0</td>\n",
       "      <td>NaN</td>\n",
       "      <td>0.00000</td>\n",
       "      <td>2020-06-30</td>\n",
       "      <td>2020-06-30</td>\n",
       "      <td>Estonia</td>\n",
       "    </tr>\n",
       "    <tr>\n",
       "      <th>3</th>\n",
       "      <td>2020-06-30</td>\n",
       "      <td>EU_Conversions_ProductView_MonaLisa_Mix</td>\n",
       "      <td>Põlva County</td>\n",
       "      <td>0</td>\n",
       "      <td>1</td>\n",
       "      <td>0.00</td>\n",
       "      <td>0</td>\n",
       "      <td>NaN</td>\n",
       "      <td>0.00000</td>\n",
       "      <td>2020-06-30</td>\n",
       "      <td>2020-06-30</td>\n",
       "      <td>Estonia</td>\n",
       "    </tr>\n",
       "    <tr>\n",
       "      <th>4</th>\n",
       "      <td>2020-06-30</td>\n",
       "      <td>EU_Conversions_ProductView_MonaLisa_Mix</td>\n",
       "      <td>Hiiu County</td>\n",
       "      <td>0</td>\n",
       "      <td>1</td>\n",
       "      <td>0.00</td>\n",
       "      <td>0</td>\n",
       "      <td>NaN</td>\n",
       "      <td>0.00000</td>\n",
       "      <td>2020-06-30</td>\n",
       "      <td>2020-06-30</td>\n",
       "      <td>Estonia</td>\n",
       "    </tr>\n",
       "  </tbody>\n",
       "</table>\n",
       "</div>"
      ],
      "text/plain": [
       "          dia                                  campaña        region  Alcance  \\\n",
       "0  2020-06-30     EU_Conversions_ProductView_Hoodie_02      Lorraine       46   \n",
       "1  2020-06-30   EU_Conversions_ProductView_NapoleonMix         Lazio      667   \n",
       "2  2020-06-30  EU_Conversions_ProductView_MonaLisa_Mix  Valga County        0   \n",
       "3  2020-06-30  EU_Conversions_ProductView_MonaLisa_Mix  Põlva County        0   \n",
       "4  2020-06-30  EU_Conversions_ProductView_MonaLisa_Mix   Hiiu County        0   \n",
       "\n",
       "   Impresiones  Importe  Clics   CPC      CTR      inicio         fin     pais  \n",
       "0           47     0.00      0   NaN  0.00000  2020-06-30  2020-06-30   France  \n",
       "1          667     0.12      6  0.02  0.89955  2020-06-30  2020-06-30    Italy  \n",
       "2            1     0.01      0   NaN  0.00000  2020-06-30  2020-06-30  Estonia  \n",
       "3            1     0.00      0   NaN  0.00000  2020-06-30  2020-06-30  Estonia  \n",
       "4            1     0.00      0   NaN  0.00000  2020-06-30  2020-06-30  Estonia  "
      ]
     },
     "execution_count": 199,
     "metadata": {},
     "output_type": "execute_result"
    }
   ],
   "source": [
    "#Juntamos gracias a las regiones los 2 dataframes.\n",
    "facebook_table_pais = pd.merge(facebook_table, regiones, how='left', on = 'region')\n",
    "facebook_table_pais.head()"
   ]
  },
  {
   "cell_type": "markdown",
   "metadata": {},
   "source": [
    "### Calculo de ratios principales.\n",
    "- CPC €\n",
    "    - Cost-Per-Click\n",
    "- CTR %\n",
    "    - Cost-Through-Rate\n",
    "- CVR %\n",
    "    - Conversion Rate\n",
    "- C/L €\n",
    "    - Cost-per-Lead"
   ]
  },
  {
   "cell_type": "markdown",
   "metadata": {},
   "source": [
    "El calculo de estos radios vamos a calcularlos obteniendo los valores medios del año 2020, por cada pais."
   ]
  },
  {
   "cell_type": "code",
   "execution_count": 150,
   "metadata": {},
   "outputs": [],
   "source": [
    "agrupacion_x_pais = facebook_table_pais.groupby(['pais']).sum()[['Alcance','Impresiones','Importe','Clics']]\n",
    "#Calculo del coste por click.\n",
    "agrupacion_x_pais = agrupacion_x_pais.assign(CPC = lambda x: agrupacion_x_pais['Clics']/agrupacion_x_pais['Importe'])\n",
    "#Calculo del Click through rate.\n",
    "agrupacion_x_pais = agrupacion_x_pais.assign(CTR = lambda x: (agrupacion_x_pais['Clics']/agrupacion_x_pais['Impresiones'])*100)"
   ]
  },
  {
   "cell_type": "markdown",
   "metadata": {},
   "source": [
    "Nos interesa sacar un ratio llamodo ***lead CVR %*** que consiste en saber que proporcion de click han finalizado en compra."
   ]
  },
  {
   "cell_type": "markdown",
   "metadata": {},
   "source": [
    "Para su calculo vamos a cruzar con informacion recogida de ***Shopify*** donde podemos encontrar el numero de ventas por dia, pais y source. En este caso agruparemos las ventas de Facebook e Instagram."
   ]
  },
  {
   "cell_type": "code",
   "execution_count": 200,
   "metadata": {},
   "outputs": [],
   "source": [
    "shopify_names, shopify_data = readCsv( r'/Origin_Shopify')"
   ]
  },
  {
   "cell_type": "code",
   "execution_count": 201,
   "metadata": {},
   "outputs": [
    {
     "data": {
      "text/html": [
       "<div>\n",
       "<style scoped>\n",
       "    .dataframe tbody tr th:only-of-type {\n",
       "        vertical-align: middle;\n",
       "    }\n",
       "\n",
       "    .dataframe tbody tr th {\n",
       "        vertical-align: top;\n",
       "    }\n",
       "\n",
       "    .dataframe thead th {\n",
       "        text-align: right;\n",
       "    }\n",
       "</style>\n",
       "<table border=\"1\" class=\"dataframe\">\n",
       "  <thead>\n",
       "    <tr style=\"text-align: right;\">\n",
       "      <th></th>\n",
       "      <th>referrer_source</th>\n",
       "      <th>referrer_name</th>\n",
       "      <th>location_city</th>\n",
       "      <th>location_country</th>\n",
       "      <th>day</th>\n",
       "      <th>total_visitors</th>\n",
       "      <th>total_sessions</th>\n",
       "      <th>total_orders_placed</th>\n",
       "    </tr>\n",
       "  </thead>\n",
       "  <tbody>\n",
       "    <tr>\n",
       "      <th>0</th>\n",
       "      <td>Social</td>\n",
       "      <td>Facebook</td>\n",
       "      <td>Bologna</td>\n",
       "      <td>Italy</td>\n",
       "      <td>2020-11-14</td>\n",
       "      <td>112</td>\n",
       "      <td>112</td>\n",
       "      <td>0</td>\n",
       "    </tr>\n",
       "    <tr>\n",
       "      <th>1</th>\n",
       "      <td>Direct</td>\n",
       "      <td>NaN</td>\n",
       "      <td>Brussels</td>\n",
       "      <td>Belgium</td>\n",
       "      <td>2020-12-26</td>\n",
       "      <td>94</td>\n",
       "      <td>94</td>\n",
       "      <td>0</td>\n",
       "    </tr>\n",
       "    <tr>\n",
       "      <th>2</th>\n",
       "      <td>Direct</td>\n",
       "      <td>NaN</td>\n",
       "      <td>Brussels</td>\n",
       "      <td>Belgium</td>\n",
       "      <td>2020-12-27</td>\n",
       "      <td>89</td>\n",
       "      <td>90</td>\n",
       "      <td>0</td>\n",
       "    </tr>\n",
       "    <tr>\n",
       "      <th>3</th>\n",
       "      <td>Direct</td>\n",
       "      <td>NaN</td>\n",
       "      <td>Brussels</td>\n",
       "      <td>Belgium</td>\n",
       "      <td>2020-12-30</td>\n",
       "      <td>84</td>\n",
       "      <td>84</td>\n",
       "      <td>0</td>\n",
       "    </tr>\n",
       "    <tr>\n",
       "      <th>4</th>\n",
       "      <td>Direct</td>\n",
       "      <td>NaN</td>\n",
       "      <td>Brussels</td>\n",
       "      <td>Belgium</td>\n",
       "      <td>2020-12-25</td>\n",
       "      <td>78</td>\n",
       "      <td>78</td>\n",
       "      <td>0</td>\n",
       "    </tr>\n",
       "  </tbody>\n",
       "</table>\n",
       "</div>"
      ],
      "text/plain": [
       "  referrer_source referrer_name location_city location_country         day  \\\n",
       "0          Social      Facebook       Bologna            Italy  2020-11-14   \n",
       "1          Direct           NaN      Brussels          Belgium  2020-12-26   \n",
       "2          Direct           NaN      Brussels          Belgium  2020-12-27   \n",
       "3          Direct           NaN      Brussels          Belgium  2020-12-30   \n",
       "4          Direct           NaN      Brussels          Belgium  2020-12-25   \n",
       "\n",
       "   total_visitors  total_sessions  total_orders_placed  \n",
       "0             112             112                    0  \n",
       "1              94              94                    0  \n",
       "2              89              90                    0  \n",
       "3              84              84                    0  \n",
       "4              78              78                    0  "
      ]
     },
     "execution_count": 201,
     "metadata": {},
     "output_type": "execute_result"
    }
   ],
   "source": [
    "shopify_table = shopify_data[shopify_names[0]]\n",
    "shopify_table.head()"
   ]
  },
  {
   "cell_type": "code",
   "execution_count": 205,
   "metadata": {},
   "outputs": [
    {
     "data": {
      "text/html": [
       "<div>\n",
       "<style scoped>\n",
       "    .dataframe tbody tr th:only-of-type {\n",
       "        vertical-align: middle;\n",
       "    }\n",
       "\n",
       "    .dataframe tbody tr th {\n",
       "        vertical-align: top;\n",
       "    }\n",
       "\n",
       "    .dataframe thead th {\n",
       "        text-align: right;\n",
       "    }\n",
       "</style>\n",
       "<table border=\"1\" class=\"dataframe\">\n",
       "  <thead>\n",
       "    <tr style=\"text-align: right;\">\n",
       "      <th></th>\n",
       "      <th>total_visitors</th>\n",
       "      <th>total_sessions</th>\n",
       "      <th>total_orders_placed</th>\n",
       "    </tr>\n",
       "    <tr>\n",
       "      <th>pais</th>\n",
       "      <th></th>\n",
       "      <th></th>\n",
       "      <th></th>\n",
       "    </tr>\n",
       "  </thead>\n",
       "  <tbody>\n",
       "    <tr>\n",
       "      <th>Albania</th>\n",
       "      <td>2</td>\n",
       "      <td>2</td>\n",
       "      <td>0</td>\n",
       "    </tr>\n",
       "    <tr>\n",
       "      <th>Andorra</th>\n",
       "      <td>15</td>\n",
       "      <td>15</td>\n",
       "      <td>1</td>\n",
       "    </tr>\n",
       "    <tr>\n",
       "      <th>Angola</th>\n",
       "      <td>2</td>\n",
       "      <td>2</td>\n",
       "      <td>0</td>\n",
       "    </tr>\n",
       "    <tr>\n",
       "      <th>Argentina</th>\n",
       "      <td>3</td>\n",
       "      <td>3</td>\n",
       "      <td>0</td>\n",
       "    </tr>\n",
       "    <tr>\n",
       "      <th>Aruba</th>\n",
       "      <td>1</td>\n",
       "      <td>1</td>\n",
       "      <td>0</td>\n",
       "    </tr>\n",
       "  </tbody>\n",
       "</table>\n",
       "</div>"
      ],
      "text/plain": [
       "           total_visitors  total_sessions  total_orders_placed\n",
       "pais                                                          \n",
       "Albania                 2               2                    0\n",
       "Andorra                15              15                    1\n",
       "Angola                  2               2                    0\n",
       "Argentina               3               3                    0\n",
       "Aruba                   1               1                    0"
      ]
     },
     "execution_count": 205,
     "metadata": {},
     "output_type": "execute_result"
    }
   ],
   "source": [
    "pais_ventas = get_facebook_sales(shopify_table)\n",
    "pais_ventas.head()"
   ]
  },
  {
   "cell_type": "code",
   "execution_count": 206,
   "metadata": {},
   "outputs": [
    {
     "data": {
      "text/html": [
       "<div>\n",
       "<style scoped>\n",
       "    .dataframe tbody tr th:only-of-type {\n",
       "        vertical-align: middle;\n",
       "    }\n",
       "\n",
       "    .dataframe tbody tr th {\n",
       "        vertical-align: top;\n",
       "    }\n",
       "\n",
       "    .dataframe thead th {\n",
       "        text-align: right;\n",
       "    }\n",
       "</style>\n",
       "<table border=\"1\" class=\"dataframe\">\n",
       "  <thead>\n",
       "    <tr style=\"text-align: right;\">\n",
       "      <th></th>\n",
       "      <th>Alcance</th>\n",
       "      <th>Impresiones</th>\n",
       "      <th>Importe</th>\n",
       "      <th>Clics</th>\n",
       "      <th>CPC</th>\n",
       "      <th>CTR</th>\n",
       "      <th>total_visitors</th>\n",
       "      <th>total_sessions</th>\n",
       "      <th>total_orders_placed</th>\n",
       "    </tr>\n",
       "    <tr>\n",
       "      <th>pais</th>\n",
       "      <th></th>\n",
       "      <th></th>\n",
       "      <th></th>\n",
       "      <th></th>\n",
       "      <th></th>\n",
       "      <th></th>\n",
       "      <th></th>\n",
       "      <th></th>\n",
       "      <th></th>\n",
       "    </tr>\n",
       "  </thead>\n",
       "  <tbody>\n",
       "    <tr>\n",
       "      <th>Albania</th>\n",
       "      <td>32935</td>\n",
       "      <td>36337</td>\n",
       "      <td>12.411781</td>\n",
       "      <td>208</td>\n",
       "      <td>16.758272</td>\n",
       "      <td>0.572419</td>\n",
       "      <td>2.0</td>\n",
       "      <td>2.0</td>\n",
       "      <td>0.0</td>\n",
       "    </tr>\n",
       "    <tr>\n",
       "      <th>Andorra</th>\n",
       "      <td>20111</td>\n",
       "      <td>25159</td>\n",
       "      <td>2.050000</td>\n",
       "      <td>88</td>\n",
       "      <td>42.926829</td>\n",
       "      <td>0.349775</td>\n",
       "      <td>15.0</td>\n",
       "      <td>15.0</td>\n",
       "      <td>1.0</td>\n",
       "    </tr>\n",
       "    <tr>\n",
       "      <th>Austria</th>\n",
       "      <td>113061</td>\n",
       "      <td>132905</td>\n",
       "      <td>115.926795</td>\n",
       "      <td>1492</td>\n",
       "      <td>12.870191</td>\n",
       "      <td>1.122606</td>\n",
       "      <td>504.0</td>\n",
       "      <td>510.0</td>\n",
       "      <td>6.0</td>\n",
       "    </tr>\n",
       "    <tr>\n",
       "      <th>Belarus</th>\n",
       "      <td>17470</td>\n",
       "      <td>19426</td>\n",
       "      <td>1.570000</td>\n",
       "      <td>171</td>\n",
       "      <td>108.917197</td>\n",
       "      <td>0.880264</td>\n",
       "      <td>39.0</td>\n",
       "      <td>40.0</td>\n",
       "      <td>0.0</td>\n",
       "    </tr>\n",
       "    <tr>\n",
       "      <th>Belgium</th>\n",
       "      <td>644696</td>\n",
       "      <td>675789</td>\n",
       "      <td>432.649208</td>\n",
       "      <td>6266</td>\n",
       "      <td>14.482865</td>\n",
       "      <td>0.927212</td>\n",
       "      <td>2114.0</td>\n",
       "      <td>2164.0</td>\n",
       "      <td>27.0</td>\n",
       "    </tr>\n",
       "  </tbody>\n",
       "</table>\n",
       "</div>"
      ],
      "text/plain": [
       "         Alcance  Impresiones     Importe  Clics         CPC       CTR  \\\n",
       "pais                                                                     \n",
       "Albania    32935        36337   12.411781    208   16.758272  0.572419   \n",
       "Andorra    20111        25159    2.050000     88   42.926829  0.349775   \n",
       "Austria   113061       132905  115.926795   1492   12.870191  1.122606   \n",
       "Belarus    17470        19426    1.570000    171  108.917197  0.880264   \n",
       "Belgium   644696       675789  432.649208   6266   14.482865  0.927212   \n",
       "\n",
       "         total_visitors  total_sessions  total_orders_placed  \n",
       "pais                                                          \n",
       "Albania             2.0             2.0                  0.0  \n",
       "Andorra            15.0            15.0                  1.0  \n",
       "Austria           504.0           510.0                  6.0  \n",
       "Belarus            39.0            40.0                  0.0  \n",
       "Belgium          2114.0          2164.0                 27.0  "
      ]
     },
     "execution_count": 206,
     "metadata": {},
     "output_type": "execute_result"
    }
   ],
   "source": [
    "#Generamos un nuevo dataframe donde juntar el numero de ventas y los datos de facebook\n",
    "facebook_pais_ventas_table = pd.merge(agrupacion_x_pais, pais_ventas, how='left', on = 'pais')\n",
    "facebook_pais_ventas_table.head()"
   ]
  },
  {
   "cell_type": "code",
   "execution_count": 162,
   "metadata": {},
   "outputs": [
    {
     "data": {
      "text/html": [
       "<div>\n",
       "<style scoped>\n",
       "    .dataframe tbody tr th:only-of-type {\n",
       "        vertical-align: middle;\n",
       "    }\n",
       "\n",
       "    .dataframe tbody tr th {\n",
       "        vertical-align: top;\n",
       "    }\n",
       "\n",
       "    .dataframe thead th {\n",
       "        text-align: right;\n",
       "    }\n",
       "</style>\n",
       "<table border=\"1\" class=\"dataframe\">\n",
       "  <thead>\n",
       "    <tr style=\"text-align: right;\">\n",
       "      <th></th>\n",
       "      <th>Alcance</th>\n",
       "      <th>Impresiones</th>\n",
       "      <th>Importe</th>\n",
       "      <th>Clics</th>\n",
       "      <th>CPC</th>\n",
       "      <th>CTR</th>\n",
       "      <th>total_visitors</th>\n",
       "      <th>total_sessions</th>\n",
       "      <th>total_orders_placed</th>\n",
       "      <th>CVR</th>\n",
       "    </tr>\n",
       "    <tr>\n",
       "      <th>pais</th>\n",
       "      <th></th>\n",
       "      <th></th>\n",
       "      <th></th>\n",
       "      <th></th>\n",
       "      <th></th>\n",
       "      <th></th>\n",
       "      <th></th>\n",
       "      <th></th>\n",
       "      <th></th>\n",
       "      <th></th>\n",
       "    </tr>\n",
       "  </thead>\n",
       "  <tbody>\n",
       "    <tr>\n",
       "      <th>Albania</th>\n",
       "      <td>32935</td>\n",
       "      <td>36337</td>\n",
       "      <td>12.411781</td>\n",
       "      <td>208</td>\n",
       "      <td>16.758272</td>\n",
       "      <td>0.572419</td>\n",
       "      <td>2.0</td>\n",
       "      <td>2.0</td>\n",
       "      <td>0.0</td>\n",
       "      <td>0.000000</td>\n",
       "    </tr>\n",
       "    <tr>\n",
       "      <th>Andorra</th>\n",
       "      <td>20111</td>\n",
       "      <td>25159</td>\n",
       "      <td>2.050000</td>\n",
       "      <td>88</td>\n",
       "      <td>42.926829</td>\n",
       "      <td>0.349775</td>\n",
       "      <td>15.0</td>\n",
       "      <td>15.0</td>\n",
       "      <td>1.0</td>\n",
       "      <td>1.136364</td>\n",
       "    </tr>\n",
       "    <tr>\n",
       "      <th>Austria</th>\n",
       "      <td>113061</td>\n",
       "      <td>132905</td>\n",
       "      <td>115.926795</td>\n",
       "      <td>1492</td>\n",
       "      <td>12.870191</td>\n",
       "      <td>1.122606</td>\n",
       "      <td>504.0</td>\n",
       "      <td>510.0</td>\n",
       "      <td>6.0</td>\n",
       "      <td>0.402145</td>\n",
       "    </tr>\n",
       "    <tr>\n",
       "      <th>Belarus</th>\n",
       "      <td>17470</td>\n",
       "      <td>19426</td>\n",
       "      <td>1.570000</td>\n",
       "      <td>171</td>\n",
       "      <td>108.917197</td>\n",
       "      <td>0.880264</td>\n",
       "      <td>39.0</td>\n",
       "      <td>40.0</td>\n",
       "      <td>0.0</td>\n",
       "      <td>0.000000</td>\n",
       "    </tr>\n",
       "    <tr>\n",
       "      <th>Belgium</th>\n",
       "      <td>644696</td>\n",
       "      <td>675789</td>\n",
       "      <td>432.649208</td>\n",
       "      <td>6266</td>\n",
       "      <td>14.482865</td>\n",
       "      <td>0.927212</td>\n",
       "      <td>2114.0</td>\n",
       "      <td>2164.0</td>\n",
       "      <td>27.0</td>\n",
       "      <td>0.430897</td>\n",
       "    </tr>\n",
       "  </tbody>\n",
       "</table>\n",
       "</div>"
      ],
      "text/plain": [
       "         Alcance  Impresiones     Importe  Clics         CPC       CTR  \\\n",
       "pais                                                                     \n",
       "Albania    32935        36337   12.411781    208   16.758272  0.572419   \n",
       "Andorra    20111        25159    2.050000     88   42.926829  0.349775   \n",
       "Austria   113061       132905  115.926795   1492   12.870191  1.122606   \n",
       "Belarus    17470        19426    1.570000    171  108.917197  0.880264   \n",
       "Belgium   644696       675789  432.649208   6266   14.482865  0.927212   \n",
       "\n",
       "         total_visitors  total_sessions  total_orders_placed       CVR  \n",
       "pais                                                                    \n",
       "Albania             2.0             2.0                  0.0  0.000000  \n",
       "Andorra            15.0            15.0                  1.0  1.136364  \n",
       "Austria           504.0           510.0                  6.0  0.402145  \n",
       "Belarus            39.0            40.0                  0.0  0.000000  \n",
       "Belgium          2114.0          2164.0                 27.0  0.430897  "
      ]
     },
     "execution_count": 162,
     "metadata": {},
     "output_type": "execute_result"
    }
   ],
   "source": [
    "#Ahora ya podemo calcular el Lead CVR %\n",
    "facebook_pais_ventas_table = facebook_pais_ventas_table.assign(CVR = lambda x: (facebook_pais_ventas_table['total_orders_placed']/facebook_pais_ventas_table['Clics'])*100)\n",
    "facebook_pais_ventas_table.head()"
   ]
  },
  {
   "cell_type": "code",
   "execution_count": 165,
   "metadata": {},
   "outputs": [
    {
     "data": {
      "text/html": [
       "<div>\n",
       "<style scoped>\n",
       "    .dataframe tbody tr th:only-of-type {\n",
       "        vertical-align: middle;\n",
       "    }\n",
       "\n",
       "    .dataframe tbody tr th {\n",
       "        vertical-align: top;\n",
       "    }\n",
       "\n",
       "    .dataframe thead th {\n",
       "        text-align: right;\n",
       "    }\n",
       "</style>\n",
       "<table border=\"1\" class=\"dataframe\">\n",
       "  <thead>\n",
       "    <tr style=\"text-align: right;\">\n",
       "      <th></th>\n",
       "      <th>Alcance</th>\n",
       "      <th>Impresiones</th>\n",
       "      <th>Importe</th>\n",
       "      <th>Clics</th>\n",
       "      <th>CPC</th>\n",
       "      <th>CTR</th>\n",
       "      <th>total_visitors</th>\n",
       "      <th>total_sessions</th>\n",
       "      <th>total_orders_placed</th>\n",
       "      <th>CVR</th>\n",
       "      <th>Coste_Lead</th>\n",
       "    </tr>\n",
       "    <tr>\n",
       "      <th>pais</th>\n",
       "      <th></th>\n",
       "      <th></th>\n",
       "      <th></th>\n",
       "      <th></th>\n",
       "      <th></th>\n",
       "      <th></th>\n",
       "      <th></th>\n",
       "      <th></th>\n",
       "      <th></th>\n",
       "      <th></th>\n",
       "      <th></th>\n",
       "    </tr>\n",
       "  </thead>\n",
       "  <tbody>\n",
       "    <tr>\n",
       "      <th>Albania</th>\n",
       "      <td>32935</td>\n",
       "      <td>36337</td>\n",
       "      <td>12.411781</td>\n",
       "      <td>208</td>\n",
       "      <td>16.758272</td>\n",
       "      <td>0.572419</td>\n",
       "      <td>2.0</td>\n",
       "      <td>2.0</td>\n",
       "      <td>0.0</td>\n",
       "      <td>0.000000</td>\n",
       "      <td>inf</td>\n",
       "    </tr>\n",
       "    <tr>\n",
       "      <th>Andorra</th>\n",
       "      <td>20111</td>\n",
       "      <td>25159</td>\n",
       "      <td>2.050000</td>\n",
       "      <td>88</td>\n",
       "      <td>42.926829</td>\n",
       "      <td>0.349775</td>\n",
       "      <td>15.0</td>\n",
       "      <td>15.0</td>\n",
       "      <td>1.0</td>\n",
       "      <td>1.136364</td>\n",
       "      <td>2.050000</td>\n",
       "    </tr>\n",
       "    <tr>\n",
       "      <th>Austria</th>\n",
       "      <td>113061</td>\n",
       "      <td>132905</td>\n",
       "      <td>115.926795</td>\n",
       "      <td>1492</td>\n",
       "      <td>12.870191</td>\n",
       "      <td>1.122606</td>\n",
       "      <td>504.0</td>\n",
       "      <td>510.0</td>\n",
       "      <td>6.0</td>\n",
       "      <td>0.402145</td>\n",
       "      <td>19.321133</td>\n",
       "    </tr>\n",
       "    <tr>\n",
       "      <th>Belarus</th>\n",
       "      <td>17470</td>\n",
       "      <td>19426</td>\n",
       "      <td>1.570000</td>\n",
       "      <td>171</td>\n",
       "      <td>108.917197</td>\n",
       "      <td>0.880264</td>\n",
       "      <td>39.0</td>\n",
       "      <td>40.0</td>\n",
       "      <td>0.0</td>\n",
       "      <td>0.000000</td>\n",
       "      <td>inf</td>\n",
       "    </tr>\n",
       "    <tr>\n",
       "      <th>Belgium</th>\n",
       "      <td>644696</td>\n",
       "      <td>675789</td>\n",
       "      <td>432.649208</td>\n",
       "      <td>6266</td>\n",
       "      <td>14.482865</td>\n",
       "      <td>0.927212</td>\n",
       "      <td>2114.0</td>\n",
       "      <td>2164.0</td>\n",
       "      <td>27.0</td>\n",
       "      <td>0.430897</td>\n",
       "      <td>16.024045</td>\n",
       "    </tr>\n",
       "  </tbody>\n",
       "</table>\n",
       "</div>"
      ],
      "text/plain": [
       "         Alcance  Impresiones     Importe  Clics         CPC       CTR  \\\n",
       "pais                                                                     \n",
       "Albania    32935        36337   12.411781    208   16.758272  0.572419   \n",
       "Andorra    20111        25159    2.050000     88   42.926829  0.349775   \n",
       "Austria   113061       132905  115.926795   1492   12.870191  1.122606   \n",
       "Belarus    17470        19426    1.570000    171  108.917197  0.880264   \n",
       "Belgium   644696       675789  432.649208   6266   14.482865  0.927212   \n",
       "\n",
       "         total_visitors  total_sessions  total_orders_placed       CVR  \\\n",
       "pais                                                                     \n",
       "Albania             2.0             2.0                  0.0  0.000000   \n",
       "Andorra            15.0            15.0                  1.0  1.136364   \n",
       "Austria           504.0           510.0                  6.0  0.402145   \n",
       "Belarus            39.0            40.0                  0.0  0.000000   \n",
       "Belgium          2114.0          2164.0                 27.0  0.430897   \n",
       "\n",
       "         Coste_Lead  \n",
       "pais                 \n",
       "Albania         inf  \n",
       "Andorra    2.050000  \n",
       "Austria   19.321133  \n",
       "Belarus         inf  \n",
       "Belgium   16.024045  "
      ]
     },
     "execution_count": 165,
     "metadata": {},
     "output_type": "execute_result"
    }
   ],
   "source": [
    "#Por ultimo sacamos la metrica coste por compra.\n",
    "facebook_pais_ventas_table = facebook_pais_ventas_table.assign(Coste_Lead = lambda x: (facebook_pais_ventas_table['Importe']/facebook_pais_ventas_table['total_orders_placed']))\n",
    "facebook_pais_ventas_table.head()"
   ]
  },
  {
   "cell_type": "markdown",
   "metadata": {},
   "source": [
    " "
   ]
  },
  {
   "cell_type": "markdown",
   "metadata": {},
   "source": [
    "### Vision General de las metricas principales.\n"
   ]
  },
  {
   "cell_type": "code",
   "execution_count": 208,
   "metadata": {},
   "outputs": [
    {
     "data": {
      "image/png": "[encoded data removed]",
      "text/plain": [
       "<Figure size 720x720 with 1 Axes>"
      ]
     },
     "metadata": {
      "needs_background": "light"
     },
     "output_type": "display_data"
    }
   ],
   "source": [
    "# Draw a nested boxplot to show bills by day and time\n",
    "fig = plt.figure(\"Vision General\", figsize=(10,10))\n",
    "sns.boxplot(y='CPC',\n",
    "            data=facebook_pais_ventas_table)\n",
    "sns.despine(offset=15, trim=True)"
   ]
  },
  {
   "cell_type": "markdown",
   "metadata": {},
   "source": [
    "Observamos como la mayoria de paises tienen un CPC situado alrededor de los 20€ y algunos casos anomalos en los que este indicador se dispara entre los 40 a 90€"
   ]
  },
  {
   "cell_type": "code",
   "execution_count": 171,
   "metadata": {},
   "outputs": [
    {
     "data": {
      "image/png": "[encoded data removed]",
      "text/plain": [
       "<Figure size 720x720 with 1 Axes>"
      ]
     },
     "metadata": {
      "needs_background": "light"
     },
     "output_type": "display_data"
    }
   ],
   "source": [
    "# Draw a nested boxplot to show bills by day and time\n",
    "fig = plt.figure(\"Vision General\", figsize=(10,10))\n",
    "sns.boxplot(y='CTR',\n",
    "            data=facebook_pais_ventas_table)\n",
    "sns.despine(offset=15, trim=True)"
   ]
  },
  {
   "cell_type": "markdown",
   "metadata": {},
   "source": [
    "Por otro lado el click por impresion sigue una distribucion mas estable con la mayor parte de paises con valores comprendidos entre 0.5-0.75"
   ]
  },
  {
   "cell_type": "code",
   "execution_count": 172,
   "metadata": {},
   "outputs": [
    {
     "data": {
      "image/png": "[encoded data removed]",
      "text/plain": [
       "<Figure size 720x720 with 1 Axes>"
      ]
     },
     "metadata": {
      "needs_background": "light"
     },
     "output_type": "display_data"
    }
   ],
   "source": [
    "# Draw a nested boxplot to show bills by day and time\n",
    "fig = plt.figure(\"Vision General\", figsize=(10,10))\n",
    "sns.boxplot(y='CVR',\n",
    "            data=facebook_pais_ventas_table)\n",
    "sns.despine(offset=15, trim=True)"
   ]
  },
  {
   "cell_type": "markdown",
   "metadata": {},
   "source": [
    "Por ultimo vemos que el ratio de conversion por click similar a lo que habiamos encontrado usando los datos de shopify es muy variable cuando tenemos en cuanta a todos los paises."
   ]
  },
  {
   "cell_type": "markdown",
   "metadata": {},
   "source": [
    "#### Coste por compra"
   ]
  },
  {
   "cell_type": "markdown",
   "metadata": {},
   "source": [
    "Finalmente analizamos este ratio comparandolo entre diversos paises. Este ratio ha sido priorizado por el cliente dado la gran informacion que aporta para comparar los distintos mercados."
   ]
  },
  {
   "cell_type": "markdown",
   "metadata": {},
   "source": [
    "Dada la alta variabilidad que encontramos en esta metrica hemos segemntado los datos en 3 grupos.\n",
    "- 25 < C/L < 50\n",
    "- C/L < 25\n",
    "- C/L > 50"
   ]
  },
  {
   "cell_type": "code",
   "execution_count": 187,
   "metadata": {},
   "outputs": [],
   "source": [
    "facebook_pais_ventas_table_g1 = facebook_pais_ventas_table[(facebook_pais_ventas_table['Coste_Lead']>25) & (50>facebook_pais_ventas_table['Coste_Lead'])]\n",
    "facebook_pais_ventas_table_g2 = facebook_pais_ventas_table[facebook_pais_ventas_table['Coste_Lead']>50]\n",
    "facebook_pais_ventas_table_g3 = facebook_pais_ventas_table[facebook_pais_ventas_table['Coste_Lead']<25]"
   ]
  },
  {
   "cell_type": "code",
   "execution_count": 188,
   "metadata": {},
   "outputs": [
    {
     "data": {
      "image/png": "[encoded data removed]",
      "text/plain": [
       "<Figure size 720x360 with 1 Axes>"
      ]
     },
     "metadata": {
      "needs_background": "light"
     },
     "output_type": "display_data"
    }
   ],
   "source": [
    "fig, ax1 = plt.subplots(1, sharex=True, figsize=(10,5))\n",
    "\n",
    "color = 'tab:blue'\n",
    "plt.xticks(rotation=90)M\n",
    "ax1.set_xlabel('Country entre 25 y 50')\n",
    "ax1.set_ylabel('Coste x Venta', color=color)\n",
    "ax1.bar(facebook_pais_ventas_table_g1.index, facebook_pais_ventas_table_g1['Coste_Lead'], color=color , label='ventas')\n",
    "ax1.tick_params(axis='y', labelcolor=color)\n",
    "plt.show()"
   ]
  },
  {
   "cell_type": "markdown",
   "metadata": {},
   "source": [
    "En esta grafica vemos los paises que que tienen un C/L comprendido entre 25 y 50 € y donde encontramos a España uno de los paises con mayor numero de ventas, pero tambien donde mas se invierte en publicidad."
   ]
  },
  {
   "cell_type": "code",
   "execution_count": 189,
   "metadata": {},
   "outputs": [
    {
     "data": {
      "image/png": "[encoded data removed]",
      "text/plain": [
       "<Figure size 720x360 with 1 Axes>"
      ]
     },
     "metadata": {
      "needs_background": "light"
     },
     "output_type": "display_data"
    }
   ],
   "source": [
    "fig, ax1 = plt.subplots(1, sharex=True, figsize=(10,5))\n",
    "\n",
    "color = 'tab:blue'\n",
    "plt.xticks(rotation=90)\n",
    "ax1.set_xlabel('Country con c/l mayor de 50')\n",
    "ax1.set_ylabel('Coste x Venta', color=color)\n",
    "ax1.bar(facebook_pais_ventas_table_g2.index, facebook_pais_ventas_table_g2['Coste_Lead'], color=color , label='ventas')\n",
    "ax1.tick_params(axis='y', labelcolor=color)\n",
    "plt.show()"
   ]
  },
  {
   "cell_type": "markdown",
   "metadata": {},
   "source": [
    "El siguiente grupo de paises han supuesto un coste por compra de mas de 50 €. Aquellos donde no vemos una barra son los paises donde se ha invertido en marketing pero no se ha conseguido ninguna venta, por lo que estima el coste por venta infinito."
   ]
  },
  {
   "cell_type": "code",
   "execution_count": 190,
   "metadata": {},
   "outputs": [
    {
     "data": {
      "image/png": "[encoded data removed]",
      "text/plain": [
       "<Figure size 720x360 with 1 Axes>"
      ]
     },
     "metadata": {
      "needs_background": "light"
     },
     "output_type": "display_data"
    }
   ],
   "source": [
    "fig, ax1 = plt.subplots(1, sharex=True, figsize=(10,5))\n",
    "\n",
    "color = 'tab:blue'\n",
    "plt.xticks(rotation=90)\n",
    "ax1.set_xlabel('Country con c/l menor\n",
    "                b de 25')\n",
    "ax1.set_ylabel('Coste x Venta', color=color)\n",
    "ax1.bar(facebook_pais_ventas_table_g3.index, facebook_pais_ventas_table_g3['Coste_Lead'], color=color , label='ventas')\n",
    "ax1.tick_params(axis='y', labelcolor=color)\n",
    "plt.show()"
   ]
  },
  {
   "cell_type": "markdown",
   "metadata": {},
   "source": [
    "Por ultimo tenemos el grupo de paises mas rentables con una coste por compra por debajo de 25€ en especial el caso mas interesante es el de Belgica dado el volumen de ventas que hemos estudiado en analisis anteriores."
   ]
  }
 ],
 "metadata": {
  "kernelspec": {
   "display_name": "Python 3 (ipykernel)",
   "language": "python",
   "name": "python3"
  },
  "language_info": {
   "codemirror_mode": {
    "name": "ipython",
    "version": 3
   },
   "file_extension": ".py",
   "mimetype": "text/x-python",
   "name": "python",
   "nbconvert_exporter": "python",
   "pygments_lexer": "ipython3",
   "version": "3.9.13"
  }
 },
 "nbformat": 4,
 "nbformat_minor": 4
}
