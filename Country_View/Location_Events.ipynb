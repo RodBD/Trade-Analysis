{
 "cells": [
  {
   "cell_type": "code",
   "execution_count": 1,
   "metadata": {},
   "outputs": [],
   "source": [
    "import pandas as pd \n",
    "import os\n",
    "import codecs\n",
    "import csv"
   ]
  },
  {
   "cell_type": "code",
   "execution_count": 2,
   "metadata": {},
   "outputs": [],
   "source": [
    "import numpy as np\n",
    "import matplotlib.pyplot as plt"
   ]
  },
  {
   "cell_type": "code",
   "execution_count": 3,
   "metadata": {},
   "outputs": [],
   "source": [
    "import requests\n",
    "import json"
   ]
  },
  {
   "cell_type": "code",
   "execution_count": 4,
   "metadata": {},
   "outputs": [],
   "source": [
    "import sys"
   ]
  },
  {
   "cell_type": "code",
   "execution_count": 5,
   "metadata": {},
   "outputs": [],
   "source": [
    "import random"
   ]
  },
  {
   "cell_type": "code",
   "execution_count": 6,
   "metadata": {},
   "outputs": [],
   "source": [
    "import copy"
   ]
  },
  {
   "cell_type": "markdown",
   "metadata": {},
   "source": [
    "# Por Ciudades"
   ]
  },
  {
   "cell_type": "code",
   "execution_count": 7,
   "metadata": {},
   "outputs": [],
   "source": [
    "def readCsv(path):\n",
    "\n",
    "    os.chdir(path)\n",
    "    system = {}\n",
    "\n",
    "    onlyfiles = [f for f in os.listdir() if os.path.isfile(f)]\n",
    "\n",
    "    print(onlyfiles)\n",
    "    for f in onlyfiles:\n",
    "        system[f] = pd.read_csv(f, encoding='utf8')\n",
    "\n",
    "    return onlyfiles, system"
   ]
  },
  {
   "cell_type": "code",
   "execution_count": 8,
   "metadata": {},
   "outputs": [
    {
     "name": "stdout",
     "output_type": "stream",
     "text": [
      "['visits_2020-01-01_2020-11-30.csv', 'visits_2020-01-01_2020-12-01.csv', 'visits_2020-10-01.csv', 'visits_2020-10-01_co.csv']\n"
     ]
    }
   ],
   "source": [
    "a, b = readCsv(r\"C:\\Users\\Usuario\\Python_Notebooks\\Mercurio\\Country_View\\shopfy_Country_Views\")"
   ]
  },
  {
   "cell_type": "code",
   "execution_count": 9,
   "metadata": {},
   "outputs": [
    {
     "data": {
      "text/plain": [
       "dict"
      ]
     },
     "execution_count": 9,
     "metadata": {},
     "output_type": "execute_result"
    }
   ],
   "source": [
    "type(b)"
   ]
  },
  {
   "cell_type": "code",
   "execution_count": 10,
   "metadata": {},
   "outputs": [
    {
     "data": {
      "text/plain": [
       "Index(['month', 'location_city', 'location_country', 'total_visitors',\n",
       "       'total_sessions', 'total_carts', 'total_checkouts', 'total_conversion',\n",
       "       'total_orders_placed'],\n",
       "      dtype='object')"
      ]
     },
     "execution_count": 10,
     "metadata": {},
     "output_type": "execute_result"
    }
   ],
   "source": [
    "b[\"visits_2020-01-01_2020-12-01.csv\"].columns"
   ]
  },
  {
   "cell_type": "code",
   "execution_count": null,
   "metadata": {},
   "outputs": [],
   "source": []
  },
  {
   "cell_type": "code",
   "execution_count": 11,
   "metadata": {},
   "outputs": [],
   "source": [
    "os.chdir(r\"C:\\Users\\Usuario\\Python_Notebooks\\Mercurio\\Validaciones\\Flows\")\n",
    "shp_Oct_rw = pd.read_csv(\"visits_2020-10-01.csv\")"
   ]
  },
  {
   "cell_type": "code",
   "execution_count": 12,
   "metadata": {},
   "outputs": [
    {
     "data": {
      "text/html": [
       "<div>\n",
       "<style scoped>\n",
       "    .dataframe tbody tr th:only-of-type {\n",
       "        vertical-align: middle;\n",
       "    }\n",
       "\n",
       "    .dataframe tbody tr th {\n",
       "        vertical-align: top;\n",
       "    }\n",
       "\n",
       "    .dataframe thead th {\n",
       "        text-align: right;\n",
       "    }\n",
       "</style>\n",
       "<table border=\"1\" class=\"dataframe\">\n",
       "  <thead>\n",
       "    <tr style=\"text-align: right;\">\n",
       "      <th></th>\n",
       "      <th>week</th>\n",
       "      <th>location_city</th>\n",
       "      <th>total_sessions</th>\n",
       "      <th>total_carts</th>\n",
       "      <th>total_checkouts</th>\n",
       "      <th>total_orders_placed</th>\n",
       "      <th>total_conversion</th>\n",
       "    </tr>\n",
       "  </thead>\n",
       "  <tbody>\n",
       "    <tr>\n",
       "      <th>0</th>\n",
       "      <td>2020-W40</td>\n",
       "      <td>Igualada</td>\n",
       "      <td>1</td>\n",
       "      <td>0</td>\n",
       "      <td>0</td>\n",
       "      <td>0</td>\n",
       "      <td>0.0</td>\n",
       "    </tr>\n",
       "    <tr>\n",
       "      <th>1</th>\n",
       "      <td>2020-W40</td>\n",
       "      <td>Brugge</td>\n",
       "      <td>1</td>\n",
       "      <td>0</td>\n",
       "      <td>0</td>\n",
       "      <td>0</td>\n",
       "      <td>0.0</td>\n",
       "    </tr>\n",
       "    <tr>\n",
       "      <th>2</th>\n",
       "      <td>2020-W40</td>\n",
       "      <td>Pontarlier</td>\n",
       "      <td>1</td>\n",
       "      <td>0</td>\n",
       "      <td>0</td>\n",
       "      <td>0</td>\n",
       "      <td>0.0</td>\n",
       "    </tr>\n",
       "    <tr>\n",
       "      <th>3</th>\n",
       "      <td>2020-W40</td>\n",
       "      <td>Bezons</td>\n",
       "      <td>1</td>\n",
       "      <td>0</td>\n",
       "      <td>0</td>\n",
       "      <td>0</td>\n",
       "      <td>0.0</td>\n",
       "    </tr>\n",
       "    <tr>\n",
       "      <th>4</th>\n",
       "      <td>2020-W40</td>\n",
       "      <td>Lloret De Mar</td>\n",
       "      <td>2</td>\n",
       "      <td>0</td>\n",
       "      <td>0</td>\n",
       "      <td>0</td>\n",
       "      <td>0.0</td>\n",
       "    </tr>\n",
       "    <tr>\n",
       "      <th>...</th>\n",
       "      <td>...</td>\n",
       "      <td>...</td>\n",
       "      <td>...</td>\n",
       "      <td>...</td>\n",
       "      <td>...</td>\n",
       "      <td>...</td>\n",
       "      <td>...</td>\n",
       "    </tr>\n",
       "    <tr>\n",
       "      <th>4722</th>\n",
       "      <td>2020-W44</td>\n",
       "      <td>Ixelles</td>\n",
       "      <td>3</td>\n",
       "      <td>0</td>\n",
       "      <td>0</td>\n",
       "      <td>0</td>\n",
       "      <td>0.0</td>\n",
       "    </tr>\n",
       "    <tr>\n",
       "      <th>4723</th>\n",
       "      <td>2020-W44</td>\n",
       "      <td>Beverwijk</td>\n",
       "      <td>1</td>\n",
       "      <td>0</td>\n",
       "      <td>0</td>\n",
       "      <td>0</td>\n",
       "      <td>0.0</td>\n",
       "    </tr>\n",
       "    <tr>\n",
       "      <th>4724</th>\n",
       "      <td>2020-W44</td>\n",
       "      <td>Ares</td>\n",
       "      <td>1</td>\n",
       "      <td>0</td>\n",
       "      <td>0</td>\n",
       "      <td>0</td>\n",
       "      <td>0.0</td>\n",
       "    </tr>\n",
       "    <tr>\n",
       "      <th>4725</th>\n",
       "      <td>2020-W44</td>\n",
       "      <td>Juchen</td>\n",
       "      <td>1</td>\n",
       "      <td>0</td>\n",
       "      <td>0</td>\n",
       "      <td>0</td>\n",
       "      <td>0.0</td>\n",
       "    </tr>\n",
       "    <tr>\n",
       "      <th>4726</th>\n",
       "      <td>2020-W44</td>\n",
       "      <td>Tholen</td>\n",
       "      <td>1</td>\n",
       "      <td>0</td>\n",
       "      <td>0</td>\n",
       "      <td>0</td>\n",
       "      <td>0.0</td>\n",
       "    </tr>\n",
       "  </tbody>\n",
       "</table>\n",
       "<p>4727 rows × 7 columns</p>\n",
       "</div>"
      ],
      "text/plain": [
       "          week  location_city  total_sessions  total_carts  total_checkouts  \\\n",
       "0     2020-W40       Igualada               1            0                0   \n",
       "1     2020-W40         Brugge               1            0                0   \n",
       "2     2020-W40     Pontarlier               1            0                0   \n",
       "3     2020-W40         Bezons               1            0                0   \n",
       "4     2020-W40  Lloret De Mar               2            0                0   \n",
       "...        ...            ...             ...          ...              ...   \n",
       "4722  2020-W44        Ixelles               3            0                0   \n",
       "4723  2020-W44      Beverwijk               1            0                0   \n",
       "4724  2020-W44           Ares               1            0                0   \n",
       "4725  2020-W44         Juchen               1            0                0   \n",
       "4726  2020-W44         Tholen               1            0                0   \n",
       "\n",
       "      total_orders_placed  total_conversion  \n",
       "0                       0               0.0  \n",
       "1                       0               0.0  \n",
       "2                       0               0.0  \n",
       "3                       0               0.0  \n",
       "4                       0               0.0  \n",
       "...                   ...               ...  \n",
       "4722                    0               0.0  \n",
       "4723                    0               0.0  \n",
       "4724                    0               0.0  \n",
       "4725                    0               0.0  \n",
       "4726                    0               0.0  \n",
       "\n",
       "[4727 rows x 7 columns]"
      ]
     },
     "execution_count": 12,
     "metadata": {},
     "output_type": "execute_result"
    }
   ],
   "source": [
    "shp_Oct_rw"
   ]
  },
  {
   "cell_type": "code",
   "execution_count": 13,
   "metadata": {},
   "outputs": [],
   "source": [
    "def removeCols(df, col):\n",
    "\n",
    "    schp_year_cols = list(df.columns)\n",
    "    selc_cols = schp_year_cols.remove(col)\n",
    "    schp_year = df[schp_year_cols]\n",
    "\n",
    "    return schp_year"
   ]
  },
  {
   "cell_type": "code",
   "execution_count": 14,
   "metadata": {},
   "outputs": [],
   "source": [
    "lst_group = removeCols(b[\"visits_2020-01-01_2020-12-01.csv\"],\"location_city\")"
   ]
  },
  {
   "cell_type": "code",
   "execution_count": 15,
   "metadata": {},
   "outputs": [
    {
     "data": {
      "text/html": [
       "<div>\n",
       "<style scoped>\n",
       "    .dataframe tbody tr th:only-of-type {\n",
       "        vertical-align: middle;\n",
       "    }\n",
       "\n",
       "    .dataframe tbody tr th {\n",
       "        vertical-align: top;\n",
       "    }\n",
       "\n",
       "    .dataframe thead th {\n",
       "        text-align: right;\n",
       "    }\n",
       "</style>\n",
       "<table border=\"1\" class=\"dataframe\">\n",
       "  <thead>\n",
       "    <tr style=\"text-align: right;\">\n",
       "      <th></th>\n",
       "      <th>month</th>\n",
       "      <th>location_country</th>\n",
       "      <th>total_visitors</th>\n",
       "      <th>total_sessions</th>\n",
       "      <th>total_carts</th>\n",
       "      <th>total_checkouts</th>\n",
       "      <th>total_conversion</th>\n",
       "      <th>total_orders_placed</th>\n",
       "    </tr>\n",
       "  </thead>\n",
       "  <tbody>\n",
       "    <tr>\n",
       "      <th>0</th>\n",
       "      <td>2020-01</td>\n",
       "      <td>Spain</td>\n",
       "      <td>2</td>\n",
       "      <td>2</td>\n",
       "      <td>0</td>\n",
       "      <td>0</td>\n",
       "      <td>0.0</td>\n",
       "      <td>0</td>\n",
       "    </tr>\n",
       "    <tr>\n",
       "      <th>1</th>\n",
       "      <td>2020-01</td>\n",
       "      <td>Czech Republic</td>\n",
       "      <td>1</td>\n",
       "      <td>1</td>\n",
       "      <td>0</td>\n",
       "      <td>0</td>\n",
       "      <td>0.0</td>\n",
       "      <td>0</td>\n",
       "    </tr>\n",
       "    <tr>\n",
       "      <th>2</th>\n",
       "      <td>2020-01</td>\n",
       "      <td>Spain</td>\n",
       "      <td>3</td>\n",
       "      <td>3</td>\n",
       "      <td>0</td>\n",
       "      <td>0</td>\n",
       "      <td>0.0</td>\n",
       "      <td>0</td>\n",
       "    </tr>\n",
       "    <tr>\n",
       "      <th>3</th>\n",
       "      <td>2020-01</td>\n",
       "      <td>Austria</td>\n",
       "      <td>1</td>\n",
       "      <td>1</td>\n",
       "      <td>0</td>\n",
       "      <td>0</td>\n",
       "      <td>0.0</td>\n",
       "      <td>0</td>\n",
       "    </tr>\n",
       "    <tr>\n",
       "      <th>4</th>\n",
       "      <td>2020-01</td>\n",
       "      <td>Belgium</td>\n",
       "      <td>1</td>\n",
       "      <td>1</td>\n",
       "      <td>0</td>\n",
       "      <td>0</td>\n",
       "      <td>0.0</td>\n",
       "      <td>0</td>\n",
       "    </tr>\n",
       "  </tbody>\n",
       "</table>\n",
       "</div>"
      ],
      "text/plain": [
       "     month location_country  total_visitors  total_sessions  total_carts  \\\n",
       "0  2020-01            Spain               2               2            0   \n",
       "1  2020-01   Czech Republic               1               1            0   \n",
       "2  2020-01            Spain               3               3            0   \n",
       "3  2020-01          Austria               1               1            0   \n",
       "4  2020-01          Belgium               1               1            0   \n",
       "\n",
       "   total_checkouts  total_conversion  total_orders_placed  \n",
       "0                0               0.0                    0  \n",
       "1                0               0.0                    0  \n",
       "2                0               0.0                    0  \n",
       "3                0               0.0                    0  \n",
       "4                0               0.0                    0  "
      ]
     },
     "execution_count": 15,
     "metadata": {},
     "output_type": "execute_result"
    }
   ],
   "source": [
    "lst_group.head()"
   ]
  },
  {
   "cell_type": "code",
   "execution_count": 16,
   "metadata": {},
   "outputs": [],
   "source": [
    "schp_Oct_cols = list(shp_Oct_rw.columns)\n",
    "selc_cols = schp_Oct_cols.remove(\"week\")\n",
    "schp_Oct = shp_Oct_rw[schp_Oct_cols]"
   ]
  },
  {
   "cell_type": "code",
   "execution_count": 17,
   "metadata": {},
   "outputs": [
    {
     "data": {
      "text/html": [
       "<div>\n",
       "<style scoped>\n",
       "    .dataframe tbody tr th:only-of-type {\n",
       "        vertical-align: middle;\n",
       "    }\n",
       "\n",
       "    .dataframe tbody tr th {\n",
       "        vertical-align: top;\n",
       "    }\n",
       "\n",
       "    .dataframe thead th {\n",
       "        text-align: right;\n",
       "    }\n",
       "</style>\n",
       "<table border=\"1\" class=\"dataframe\">\n",
       "  <thead>\n",
       "    <tr style=\"text-align: right;\">\n",
       "      <th></th>\n",
       "      <th>location_city</th>\n",
       "      <th>total_sessions</th>\n",
       "      <th>total_carts</th>\n",
       "      <th>total_checkouts</th>\n",
       "      <th>total_orders_placed</th>\n",
       "      <th>total_conversion</th>\n",
       "    </tr>\n",
       "  </thead>\n",
       "  <tbody>\n",
       "    <tr>\n",
       "      <th>0</th>\n",
       "      <td>Igualada</td>\n",
       "      <td>1</td>\n",
       "      <td>0</td>\n",
       "      <td>0</td>\n",
       "      <td>0</td>\n",
       "      <td>0.0</td>\n",
       "    </tr>\n",
       "    <tr>\n",
       "      <th>1</th>\n",
       "      <td>Brugge</td>\n",
       "      <td>1</td>\n",
       "      <td>0</td>\n",
       "      <td>0</td>\n",
       "      <td>0</td>\n",
       "      <td>0.0</td>\n",
       "    </tr>\n",
       "    <tr>\n",
       "      <th>2</th>\n",
       "      <td>Pontarlier</td>\n",
       "      <td>1</td>\n",
       "      <td>0</td>\n",
       "      <td>0</td>\n",
       "      <td>0</td>\n",
       "      <td>0.0</td>\n",
       "    </tr>\n",
       "    <tr>\n",
       "      <th>3</th>\n",
       "      <td>Bezons</td>\n",
       "      <td>1</td>\n",
       "      <td>0</td>\n",
       "      <td>0</td>\n",
       "      <td>0</td>\n",
       "      <td>0.0</td>\n",
       "    </tr>\n",
       "    <tr>\n",
       "      <th>4</th>\n",
       "      <td>Lloret De Mar</td>\n",
       "      <td>2</td>\n",
       "      <td>0</td>\n",
       "      <td>0</td>\n",
       "      <td>0</td>\n",
       "      <td>0.0</td>\n",
       "    </tr>\n",
       "    <tr>\n",
       "      <th>...</th>\n",
       "      <td>...</td>\n",
       "      <td>...</td>\n",
       "      <td>...</td>\n",
       "      <td>...</td>\n",
       "      <td>...</td>\n",
       "      <td>...</td>\n",
       "    </tr>\n",
       "    <tr>\n",
       "      <th>4722</th>\n",
       "      <td>Ixelles</td>\n",
       "      <td>3</td>\n",
       "      <td>0</td>\n",
       "      <td>0</td>\n",
       "      <td>0</td>\n",
       "      <td>0.0</td>\n",
       "    </tr>\n",
       "    <tr>\n",
       "      <th>4723</th>\n",
       "      <td>Beverwijk</td>\n",
       "      <td>1</td>\n",
       "      <td>0</td>\n",
       "      <td>0</td>\n",
       "      <td>0</td>\n",
       "      <td>0.0</td>\n",
       "    </tr>\n",
       "    <tr>\n",
       "      <th>4724</th>\n",
       "      <td>Ares</td>\n",
       "      <td>1</td>\n",
       "      <td>0</td>\n",
       "      <td>0</td>\n",
       "      <td>0</td>\n",
       "      <td>0.0</td>\n",
       "    </tr>\n",
       "    <tr>\n",
       "      <th>4725</th>\n",
       "      <td>Juchen</td>\n",
       "      <td>1</td>\n",
       "      <td>0</td>\n",
       "      <td>0</td>\n",
       "      <td>0</td>\n",
       "      <td>0.0</td>\n",
       "    </tr>\n",
       "    <tr>\n",
       "      <th>4726</th>\n",
       "      <td>Tholen</td>\n",
       "      <td>1</td>\n",
       "      <td>0</td>\n",
       "      <td>0</td>\n",
       "      <td>0</td>\n",
       "      <td>0.0</td>\n",
       "    </tr>\n",
       "  </tbody>\n",
       "</table>\n",
       "<p>4727 rows × 6 columns</p>\n",
       "</div>"
      ],
      "text/plain": [
       "      location_city  total_sessions  total_carts  total_checkouts  \\\n",
       "0          Igualada               1            0                0   \n",
       "1            Brugge               1            0                0   \n",
       "2        Pontarlier               1            0                0   \n",
       "3            Bezons               1            0                0   \n",
       "4     Lloret De Mar               2            0                0   \n",
       "...             ...             ...          ...              ...   \n",
       "4722        Ixelles               3            0                0   \n",
       "4723      Beverwijk               1            0                0   \n",
       "4724           Ares               1            0                0   \n",
       "4725         Juchen               1            0                0   \n",
       "4726         Tholen               1            0                0   \n",
       "\n",
       "      total_orders_placed  total_conversion  \n",
       "0                       0               0.0  \n",
       "1                       0               0.0  \n",
       "2                       0               0.0  \n",
       "3                       0               0.0  \n",
       "4                       0               0.0  \n",
       "...                   ...               ...  \n",
       "4722                    0               0.0  \n",
       "4723                    0               0.0  \n",
       "4724                    0               0.0  \n",
       "4725                    0               0.0  \n",
       "4726                    0               0.0  \n",
       "\n",
       "[4727 rows x 6 columns]"
      ]
     },
     "execution_count": 17,
     "metadata": {},
     "output_type": "execute_result"
    }
   ],
   "source": [
    "schp_Oct"
   ]
  },
  {
   "cell_type": "code",
   "execution_count": 18,
   "metadata": {},
   "outputs": [],
   "source": [
    "schp_Oct_gr = schp_Oct.groupby(\"location_city\").sum()"
   ]
  },
  {
   "cell_type": "code",
   "execution_count": 19,
   "metadata": {},
   "outputs": [],
   "source": [
    "schp_year_gr = lst_group.groupby([\"location_country\",\"month\"]).sum()"
   ]
  },
  {
   "cell_type": "code",
   "execution_count": 20,
   "metadata": {},
   "outputs": [
    {
     "data": {
      "text/html": [
       "<div>\n",
       "<style scoped>\n",
       "    .dataframe tbody tr th:only-of-type {\n",
       "        vertical-align: middle;\n",
       "    }\n",
       "\n",
       "    .dataframe tbody tr th {\n",
       "        vertical-align: top;\n",
       "    }\n",
       "\n",
       "    .dataframe thead th {\n",
       "        text-align: right;\n",
       "    }\n",
       "</style>\n",
       "<table border=\"1\" class=\"dataframe\">\n",
       "  <thead>\n",
       "    <tr style=\"text-align: right;\">\n",
       "      <th></th>\n",
       "      <th>total_sessions</th>\n",
       "      <th>total_carts</th>\n",
       "      <th>total_checkouts</th>\n",
       "      <th>total_orders_placed</th>\n",
       "      <th>total_conversion</th>\n",
       "    </tr>\n",
       "    <tr>\n",
       "      <th>location_city</th>\n",
       "      <th></th>\n",
       "      <th></th>\n",
       "      <th></th>\n",
       "      <th></th>\n",
       "      <th></th>\n",
       "    </tr>\n",
       "  </thead>\n",
       "  <tbody>\n",
       "    <tr>\n",
       "      <th>'s-gravenhage</th>\n",
       "      <td>4</td>\n",
       "      <td>0</td>\n",
       "      <td>0</td>\n",
       "      <td>0</td>\n",
       "      <td>0.0</td>\n",
       "    </tr>\n",
       "    <tr>\n",
       "      <th>'s-gravenzande</th>\n",
       "      <td>8</td>\n",
       "      <td>0</td>\n",
       "      <td>0</td>\n",
       "      <td>0</td>\n",
       "      <td>0.0</td>\n",
       "    </tr>\n",
       "    <tr>\n",
       "      <th>'s-hertogenbosch</th>\n",
       "      <td>22</td>\n",
       "      <td>0</td>\n",
       "      <td>0</td>\n",
       "      <td>0</td>\n",
       "      <td>0.0</td>\n",
       "    </tr>\n",
       "    <tr>\n",
       "      <th>A Coruña</th>\n",
       "      <td>5</td>\n",
       "      <td>0</td>\n",
       "      <td>0</td>\n",
       "      <td>0</td>\n",
       "      <td>0.0</td>\n",
       "    </tr>\n",
       "    <tr>\n",
       "      <th>Aachen</th>\n",
       "      <td>7</td>\n",
       "      <td>0</td>\n",
       "      <td>0</td>\n",
       "      <td>0</td>\n",
       "      <td>0.0</td>\n",
       "    </tr>\n",
       "  </tbody>\n",
       "</table>\n",
       "</div>"
      ],
      "text/plain": [
       "                  total_sessions  total_carts  total_checkouts  \\\n",
       "location_city                                                    \n",
       "'s-gravenhage                  4            0                0   \n",
       "'s-gravenzande                 8            0                0   \n",
       "'s-hertogenbosch              22            0                0   \n",
       "A Coruña                       5            0                0   \n",
       "Aachen                         7            0                0   \n",
       "\n",
       "                  total_orders_placed  total_conversion  \n",
       "location_city                                            \n",
       "'s-gravenhage                       0               0.0  \n",
       "'s-gravenzande                      0               0.0  \n",
       "'s-hertogenbosch                    0               0.0  \n",
       "A Coruña                            0               0.0  \n",
       "Aachen                              0               0.0  "
      ]
     },
     "execution_count": 20,
     "metadata": {},
     "output_type": "execute_result"
    }
   ],
   "source": [
    "schp_Oct_gr.head()"
   ]
  },
  {
   "cell_type": "code",
   "execution_count": 21,
   "metadata": {},
   "outputs": [
    {
     "data": {
      "text/plain": [
       "2831"
      ]
     },
     "execution_count": 21,
     "metadata": {},
     "output_type": "execute_result"
    }
   ],
   "source": [
    "len(schp_Oct_gr)"
   ]
  },
  {
   "cell_type": "markdown",
   "metadata": {},
   "source": [
    "- Vemos que tenemos 2831 ciudades donde se ha registrado actividad.\n",
    "- Vamos rescatar aquellas donde la actividad sea mas abundante."
   ]
  },
  {
   "cell_type": "code",
   "execution_count": 22,
   "metadata": {},
   "outputs": [
    {
     "name": "stdout",
     "output_type": "stream",
     "text": [
      "########################################################\n",
      "Valor max de la columna total_sessions es: 787\n",
      "Valor min de la columna total_sessions es: 1\n",
      "Valor medio de la columna total_sessions es: 4.493111974567291\n",
      "Valor varianza de la columna total_sessions es: 490.4880309725869\n",
      "########################################################\n",
      "########################################################\n",
      "Valor max de la columna total_carts es: 16\n",
      "Valor min de la columna total_carts es: 0\n",
      "Valor medio de la columna total_carts es: 0.0798304486047333\n",
      "Valor varianza de la columna total_carts es: 490.4880309725869\n",
      "########################################################\n",
      "########################################################\n",
      "Valor max de la columna total_checkouts es: 8\n",
      "Valor min de la columna total_checkouts es: 0\n",
      "Valor medio de la columna total_checkouts es: 0.03673613564111621\n",
      "Valor varianza de la columna total_checkouts es: 490.4880309725869\n",
      "########################################################\n",
      "########################################################\n",
      "Valor max de la columna total_orders_placed es: 5\n",
      "Valor min de la columna total_orders_placed es: 0\n",
      "Valor medio de la columna total_orders_placed es: 0.017661603673613566\n",
      "Valor varianza de la columna total_orders_placed es: 490.4880309725869\n",
      "########################################################\n",
      "########################################################\n",
      "Valor max de la columna total_conversion es: 1.0\n",
      "Valor min de la columna total_conversion es: 0.0\n",
      "Valor medio de la columna total_conversion es: 0.0033307523843164955\n",
      "Valor varianza de la columna total_conversion es: 490.4880309725869\n",
      "########################################################\n"
     ]
    }
   ],
   "source": [
    "#Analizamos actividad max y min de los eventos.\n",
    "for col in schp_Oct_gr.columns:\n",
    "    mx_t = max(schp_Oct_gr[col])\n",
    "    mi_t = min(schp_Oct_gr[col])\n",
    "    av_t = np.mean(schp_Oct_gr[col])\n",
    "    va_t = np.var(schp_Oct_gr[\"total_sessions\"])\n",
    "    \n",
    "    print(\"########################################################\")\n",
    "    print(\"Valor max de la columna %s es: %s\" % (col, mx_t))\n",
    "    print(\"Valor min de la columna %s es: %s\" % (col, mi_t))\n",
    "    print(\"Valor medio de la columna %s es: %s\" % (col, av_t))\n",
    "    print(\"Valor varianza de la columna %s es: %s\" % (col, va_t))\n",
    "    print(\"########################################################\")\n"
   ]
  },
  {
   "cell_type": "code",
   "execution_count": 23,
   "metadata": {},
   "outputs": [],
   "source": [
    "def firstInform(df):\n",
    "    # Analizamos actividad max y min de los eventos.\n",
    "    for col in df.columns:\n",
    "        \n",
    "        mx_t = max(df[col])\n",
    "        countMounth_max = list(df[col].loc[df[col] == mx_t].index)\n",
    "        maxMounth = str(countMounth_max[0][1])\n",
    "        maxCounty = str(countMounth_max[0][0])\n",
    "        \n",
    "        mi_t = min(df[col])\n",
    "        countMounth_min = list(df[col].loc[df[col] == mi_t].index)\n",
    "        minMounth = str(countMounth_min[0][1])\n",
    "        minCounty = str(countMounth_min[0][0])\n",
    "        \n",
    "        av_t = np.mean(df[col])\n",
    "        va_t = np.var(df[\"total_sessions\"])\n",
    "        \n",
    "        \n",
    "\n",
    "        print(\"########################################################\")\n",
    "        print(\"Valor max de la columna '{0}' es: '{1}' \\n para pais: '{2}' y fecha:'{3}'\".format(col, mx_t, maxCounty, maxMounth))\n",
    "        print(\"Valor min de la columna '{0}' es: '{1}' \\n para pais: '{2}' y fecha:'{3}'\".format(col, mi_t, minCounty, minMounth))\n",
    "        print(\"Valor medio de la columna %s es: %s\" % (col, av_t))\n",
    "        print(\"Valor varianza de la columna %s es: %s\" % (col, va_t))\n",
    "        print(\"########################################################\")\n"
   ]
  },
  {
   "cell_type": "code",
   "execution_count": 24,
   "metadata": {},
   "outputs": [
    {
     "name": "stdout",
     "output_type": "stream",
     "text": [
      "########################################################\n",
      "Valor max de la columna 'total_visitors' es: '4294' \n",
      " para pais: 'Spain' y fecha:'2020-09'\n",
      "Valor min de la columna 'total_visitors' es: '1' \n",
      " para pais: 'Afghanistan' y fecha:'2020-08'\n",
      "Valor medio de la columna total_visitors es: 181.81559220389806\n",
      "Valor varianza de la columna total_visitors es: 354194.65942291234\n",
      "########################################################\n",
      "########################################################\n",
      "Valor max de la columna 'total_sessions' es: '4972' \n",
      " para pais: 'Spain' y fecha:'2020-09'\n",
      "Valor min de la columna 'total_sessions' es: '1' \n",
      " para pais: 'Afghanistan' y fecha:'2020-08'\n",
      "Valor medio de la columna total_sessions es: 207.0569715142429\n",
      "Valor varianza de la columna total_sessions es: 354194.65942291234\n",
      "########################################################\n",
      "########################################################\n",
      "Valor max de la columna 'total_carts' es: '138' \n",
      " para pais: 'Netherlands' y fecha:'2020-07'\n",
      "Valor min de la columna 'total_carts' es: '0' \n",
      " para pais: 'Afghanistan' y fecha:'2020-08'\n",
      "Valor medio de la columna total_carts es: 4.377811094452774\n",
      "Valor varianza de la columna total_carts es: 354194.65942291234\n",
      "########################################################\n",
      "########################################################\n",
      "Valor max de la columna 'total_checkouts' es: '78' \n",
      " para pais: 'Netherlands' y fecha:'2020-07'\n",
      "Valor min de la columna 'total_checkouts' es: '0' \n",
      " para pais: 'Afghanistan' y fecha:'2020-08'\n",
      "Valor medio de la columna total_checkouts es: 2.3313343328335834\n",
      "Valor varianza de la columna total_checkouts es: 354194.65942291234\n",
      "########################################################\n",
      "########################################################\n",
      "Valor max de la columna 'total_conversion' es: '3.9173100000000005' \n",
      " para pais: 'Netherlands' y fecha:'2020-07'\n",
      "Valor min de la columna 'total_conversion' es: '0.0' \n",
      " para pais: 'Afghanistan' y fecha:'2020-08'\n",
      "Valor medio de la columna total_conversion es: 0.1460054872563718\n",
      "Valor varianza de la columna total_conversion es: 354194.65942291234\n",
      "########################################################\n",
      "########################################################\n",
      "Valor max de la columna 'total_orders_placed' es: '47' \n",
      " para pais: 'Netherlands' y fecha:'2020-07'\n",
      "Valor min de la columna 'total_orders_placed' es: '0' \n",
      " para pais: 'Afghanistan' y fecha:'2020-08'\n",
      "Valor medio de la columna total_orders_placed es: 1.206896551724138\n",
      "Valor varianza de la columna total_orders_placed es: 354194.65942291234\n",
      "########################################################\n"
     ]
    }
   ],
   "source": [
    "firstInform(schp_year_gr)"
   ]
  },
  {
   "cell_type": "code",
   "execution_count": 25,
   "metadata": {},
   "outputs": [],
   "source": [
    "mx_t = max(schp_year_gr[\"total_sessions\"])\n",
    "mi_t = min(schp_year_gr[\"total_sessions\"])\n",
    "av_t = np.mean(schp_year_gr[\"total_sessions\"])   \n",
    "va_t = np.var(schp_year_gr[\"total_sessions\"])"
   ]
  },
  {
   "cell_type": "code",
   "execution_count": 26,
   "metadata": {},
   "outputs": [],
   "source": [
    "countMounth =schp_year_gr[\"total_sessions\"].loc[schp_year_gr[\"total_sessions\"] == mx_t].index"
   ]
  },
  {
   "cell_type": "code",
   "execution_count": 27,
   "metadata": {},
   "outputs": [
    {
     "data": {
      "text/plain": [
       "'2020-09'"
      ]
     },
     "execution_count": 27,
     "metadata": {},
     "output_type": "execute_result"
    }
   ],
   "source": [
    "countMounthL =list(countMounth)\n",
    "countMounthL[0][1]"
   ]
  },
  {
   "cell_type": "markdown",
   "metadata": {},
   "source": [
    "## Distribucion de todas las ciudades."
   ]
  },
  {
   "cell_type": "code",
   "execution_count": 28,
   "metadata": {},
   "outputs": [
    {
     "data": {
      "image/png": "[encoded data removed]",
      "text/plain": [
       "<Figure size 432x288 with 1 Axes>"
      ]
     },
     "metadata": {
      "needs_background": "light"
     },
     "output_type": "display_data"
    }
   ],
   "source": [
    "plt.boxplot(schp_Oct_gr[\"total_sessions\"],vert=False)\n",
    "plt.show()"
   ]
  },
  {
   "cell_type": "code",
   "execution_count": 29,
   "metadata": {},
   "outputs": [
    {
     "ename": "SyntaxError",
     "evalue": "invalid syntax (<ipython-input-29-0a962fc6e10d>, line 1)",
     "output_type": "error",
     "traceback": [
      "\u001b[1;36m  File \u001b[1;32m\"<ipython-input-29-0a962fc6e10d>\"\u001b[1;36m, line \u001b[1;32m1\u001b[0m\n\u001b[1;33m    boxplot(len ~ dose, data = ToothGrowth,\u001b[0m\n\u001b[1;37m                ^\u001b[0m\n\u001b[1;31mSyntaxError\u001b[0m\u001b[1;31m:\u001b[0m invalid syntax\n"
     ]
    }
   ],
   "source": [
    " boxplot(len ~ dose, data = ToothGrowth,\n",
    "         boxwex = 0.25, at = 1:3 - 0.2,\n",
    "         subset = supp == \"VC\", col = \"yellow\",\n",
    "         main = \"Guinea Pigs' Tooth Growth\",\n",
    "         xlab = \"Vitamin C dose mg\",\n",
    "         ylab = \"tooth length\",\n",
    "         xlim = c(0.5, 3.5), ylim = c(0, 35), yaxs = \"i\")"
   ]
  },
  {
   "cell_type": "code",
   "execution_count": 30,
   "metadata": {},
   "outputs": [
    {
     "data": {
      "image/png": "[encoded data removed]",
      "text/plain": [
       "<Figure size 1440x1440 with 6 Axes>"
      ]
     },
     "metadata": {
      "needs_background": "light"
     },
     "output_type": "display_data"
    }
   ],
   "source": [
    "#fig1 = plt.figure(\"Vision General\")\n",
    "#fig1.subplots_adjust(hspace=1, wspace=1)\n",
    "fig, ax = plt.subplots(figsize = (20,20), sharex = True)\n",
    "\n",
    "i = 1\n",
    "for col in schp_Oct_gr.columns:\n",
    "\n",
    "    ax = fig.add_subplot(5, 1, i)\n",
    "    plt.boxplot(schp_Oct_gr[col], vert=False)    \n",
    "#Esto nos permite cambiar la horientacion de la etiquetas.\n",
    "    plt.title('Eventos de %s' % col)\n",
    "    i += 1\n",
    "\n",
    "plt.show()"
   ]
  },
  {
   "cell_type": "markdown",
   "metadata": {},
   "source": [
    "## Distribucion en ciudades con mas de 50 sesiones."
   ]
  },
  {
   "cell_type": "markdown",
   "metadata": {},
   "source": [
    "Vemos que la distribucion de los eventos es muy desigual. Asi que vamos a segmentar el dataframe en 2."
   ]
  },
  {
   "cell_type": "code",
   "execution_count": 31,
   "metadata": {},
   "outputs": [],
   "source": [
    "msk_tses = schp_Oct_gr[\"total_sessions\"] > 50\n",
    "mx_tses = schp_Oct_gr[msk_tses]"
   ]
  },
  {
   "cell_type": "code",
   "execution_count": 32,
   "metadata": {},
   "outputs": [
    {
     "data": {
      "text/plain": [
       "29"
      ]
     },
     "execution_count": 32,
     "metadata": {},
     "output_type": "execute_result"
    }
   ],
   "source": [
    "#El Dataframe con mas de 50 sesiones son\n",
    "len(mx_tses)"
   ]
  },
  {
   "cell_type": "code",
   "execution_count": 33,
   "metadata": {},
   "outputs": [
    {
     "data": {
      "image/png": "[encoded data removed]",
      "text/plain": [
       "<Figure size 1440x1440 with 6 Axes>"
      ]
     },
     "metadata": {
      "needs_background": "light"
     },
     "output_type": "display_data"
    }
   ],
   "source": [
    "#fig1 = plt.figure(\"Vision General\")\n",
    "#fig1.subplots_adjust(hspace=1, wspace=1)\n",
    "fig, ax = plt.subplots(figsize = (20,20), sharex = True)\n",
    "\n",
    "i = 1\n",
    "for col in mx_tses.columns:\n",
    "\n",
    "    ax = fig.add_subplot(5, 1, i)\n",
    "    plt.boxplot(mx_tses[col], vert=False)    \n",
    "#Esto nos permite cambiar la horientacion de la etiquetas.\n",
    "    plt.title('Eventos de %s' % col)\n",
    "    i += 1\n",
    "\n",
    "plt.show()"
   ]
  },
  {
   "cell_type": "code",
   "execution_count": 34,
   "metadata": {},
   "outputs": [
    {
     "name": "stdout",
     "output_type": "stream",
     "text": [
      "El numero de ciudades con mas de 50 visualizaciones es:  29\n"
     ]
    }
   ],
   "source": [
    "print(\"El numero de ciudades con mas de 50 visualizaciones es: \", str(len(mx_tses)))"
   ]
  },
  {
   "cell_type": "markdown",
   "metadata": {},
   "source": [
    "## Distribucionen ciudades con mas de 150 sesiones."
   ]
  },
  {
   "cell_type": "code",
   "execution_count": 35,
   "metadata": {},
   "outputs": [],
   "source": [
    "msk_1_bq = schp_Oct_gr[\"total_sessions\"] > 150\n",
    "ci_1_bq = schp_Oct_gr[msk_1_bq]"
   ]
  },
  {
   "cell_type": "code",
   "execution_count": 36,
   "metadata": {},
   "outputs": [
    {
     "data": {
      "image/png": "[encoded data removed]",
      "text/plain": [
       "<Figure size 1440x1440 with 6 Axes>"
      ]
     },
     "metadata": {
      "needs_background": "light"
     },
     "output_type": "display_data"
    }
   ],
   "source": [
    "#fig1 = plt.figure(\"Vision General\")\n",
    "#fig1.subplots_adjust(hspace=1, wspace=1)\n",
    "fig2, ax = plt.subplots(figsize = (20,20), sharex = True)\n",
    "\n",
    "i = 1\n",
    "for col in ci_1_bq.columns:\n",
    "\n",
    "    ax = fig2.add_subplot(5, 1, i)\n",
    "    plt.boxplot(ci_1_bq[col], vert=False)    \n",
    "#Esto nos permite cambiar la horientacion de la etiquetas.\n",
    "    plt.title('Eventos de %s' % col)\n",
    "    i += 1\n",
    "\n",
    "plt.show()"
   ]
  },
  {
   "cell_type": "code",
   "execution_count": 37,
   "metadata": {},
   "outputs": [
    {
     "name": "stdout",
     "output_type": "stream",
     "text": [
      "El numero de ciudades en el primer bloque es:  7\n"
     ]
    }
   ],
   "source": [
    "print(\"El numero de ciudades en el primer bloque es: \", str(len(ci_1_bq)))"
   ]
  },
  {
   "cell_type": "markdown",
   "metadata": {},
   "source": [
    "Pasamos localizar las ciudades en paises."
   ]
  },
  {
   "cell_type": "markdown",
   "metadata": {},
   "source": [
    "Obtenemos el dataframe con la principales ciudades y sus paises."
   ]
  },
  {
   "cell_type": "markdown",
   "metadata": {},
   "source": [
    "Obtenemos el dataframe con las ciudades con mas de 50 visualizacion y sus paises."
   ]
  },
  {
   "cell_type": "code",
   "execution_count": 38,
   "metadata": {},
   "outputs": [
    {
     "data": {
      "text/html": [
       "<div>\n",
       "<style scoped>\n",
       "    .dataframe tbody tr th:only-of-type {\n",
       "        vertical-align: middle;\n",
       "    }\n",
       "\n",
       "    .dataframe tbody tr th {\n",
       "        vertical-align: top;\n",
       "    }\n",
       "\n",
       "    .dataframe thead th {\n",
       "        text-align: right;\n",
       "    }\n",
       "</style>\n",
       "<table border=\"1\" class=\"dataframe\">\n",
       "  <thead>\n",
       "    <tr style=\"text-align: right;\">\n",
       "      <th></th>\n",
       "      <th>total_sessions</th>\n",
       "      <th>total_carts</th>\n",
       "      <th>total_checkouts</th>\n",
       "      <th>total_orders_placed</th>\n",
       "      <th>total_conversion</th>\n",
       "    </tr>\n",
       "    <tr>\n",
       "      <th>location_city</th>\n",
       "      <th></th>\n",
       "      <th></th>\n",
       "      <th></th>\n",
       "      <th></th>\n",
       "      <th></th>\n",
       "    </tr>\n",
       "  </thead>\n",
       "  <tbody>\n",
       "    <tr>\n",
       "      <th>Amersfoort</th>\n",
       "      <td>68</td>\n",
       "      <td>2</td>\n",
       "      <td>1</td>\n",
       "      <td>0</td>\n",
       "      <td>0.00000</td>\n",
       "    </tr>\n",
       "    <tr>\n",
       "      <th>Amsterdam</th>\n",
       "      <td>475</td>\n",
       "      <td>15</td>\n",
       "      <td>8</td>\n",
       "      <td>4</td>\n",
       "      <td>0.03876</td>\n",
       "    </tr>\n",
       "    <tr>\n",
       "      <th>Barcelona</th>\n",
       "      <td>285</td>\n",
       "      <td>3</td>\n",
       "      <td>2</td>\n",
       "      <td>2</td>\n",
       "      <td>0.02694</td>\n",
       "    </tr>\n",
       "    <tr>\n",
       "      <th>Berlin</th>\n",
       "      <td>89</td>\n",
       "      <td>4</td>\n",
       "      <td>3</td>\n",
       "      <td>3</td>\n",
       "      <td>0.14692</td>\n",
       "    </tr>\n",
       "    <tr>\n",
       "      <th>Council Bluffs</th>\n",
       "      <td>84</td>\n",
       "      <td>0</td>\n",
       "      <td>0</td>\n",
       "      <td>0</td>\n",
       "      <td>0.00000</td>\n",
       "    </tr>\n",
       "  </tbody>\n",
       "</table>\n",
       "</div>"
      ],
      "text/plain": [
       "                total_sessions  total_carts  total_checkouts  \\\n",
       "location_city                                                  \n",
       "Amersfoort                  68            2                1   \n",
       "Amsterdam                  475           15                8   \n",
       "Barcelona                  285            3                2   \n",
       "Berlin                      89            4                3   \n",
       "Council Bluffs              84            0                0   \n",
       "\n",
       "                total_orders_placed  total_conversion  \n",
       "location_city                                          \n",
       "Amersfoort                        0           0.00000  \n",
       "Amsterdam                         4           0.03876  \n",
       "Barcelona                         2           0.02694  \n",
       "Berlin                            3           0.14692  \n",
       "Council Bluffs                    0           0.00000  "
      ]
     },
     "execution_count": 38,
     "metadata": {},
     "output_type": "execute_result"
    }
   ],
   "source": [
    "mx_tses.head()"
   ]
  },
  {
   "cell_type": "markdown",
   "metadata": {},
   "source": [
    "# Por Paises"
   ]
  },
  {
   "cell_type": "code",
   "execution_count": 39,
   "metadata": {},
   "outputs": [],
   "source": [
    "shp_Oct_co_rw = pd.read_csv(\"visits_2020-10-01_co.csv\")"
   ]
  },
  {
   "cell_type": "code",
   "execution_count": 40,
   "metadata": {},
   "outputs": [
    {
     "data": {
      "text/html": [
       "<div>\n",
       "<style scoped>\n",
       "    .dataframe tbody tr th:only-of-type {\n",
       "        vertical-align: middle;\n",
       "    }\n",
       "\n",
       "    .dataframe tbody tr th {\n",
       "        vertical-align: top;\n",
       "    }\n",
       "\n",
       "    .dataframe thead th {\n",
       "        text-align: right;\n",
       "    }\n",
       "</style>\n",
       "<table border=\"1\" class=\"dataframe\">\n",
       "  <thead>\n",
       "    <tr style=\"text-align: right;\">\n",
       "      <th></th>\n",
       "      <th>week</th>\n",
       "      <th>location_country</th>\n",
       "      <th>total_sessions</th>\n",
       "      <th>total_carts</th>\n",
       "      <th>total_checkouts</th>\n",
       "      <th>total_orders_placed</th>\n",
       "      <th>total_conversion</th>\n",
       "    </tr>\n",
       "  </thead>\n",
       "  <tbody>\n",
       "    <tr>\n",
       "      <th>0</th>\n",
       "      <td>2020-W40</td>\n",
       "      <td>Germany</td>\n",
       "      <td>175</td>\n",
       "      <td>2</td>\n",
       "      <td>2</td>\n",
       "      <td>0</td>\n",
       "      <td>0.00000</td>\n",
       "    </tr>\n",
       "    <tr>\n",
       "      <th>1</th>\n",
       "      <td>2020-W40</td>\n",
       "      <td>Spain</td>\n",
       "      <td>571</td>\n",
       "      <td>10</td>\n",
       "      <td>5</td>\n",
       "      <td>3</td>\n",
       "      <td>0.00525</td>\n",
       "    </tr>\n",
       "    <tr>\n",
       "      <th>2</th>\n",
       "      <td>2020-W40</td>\n",
       "      <td>Turkey</td>\n",
       "      <td>2</td>\n",
       "      <td>0</td>\n",
       "      <td>0</td>\n",
       "      <td>0</td>\n",
       "      <td>0.00000</td>\n",
       "    </tr>\n",
       "    <tr>\n",
       "      <th>3</th>\n",
       "      <td>2020-W40</td>\n",
       "      <td>Czech Republic</td>\n",
       "      <td>1</td>\n",
       "      <td>0</td>\n",
       "      <td>0</td>\n",
       "      <td>0</td>\n",
       "      <td>0.00000</td>\n",
       "    </tr>\n",
       "    <tr>\n",
       "      <th>4</th>\n",
       "      <td>2020-W40</td>\n",
       "      <td>Macau</td>\n",
       "      <td>1</td>\n",
       "      <td>0</td>\n",
       "      <td>0</td>\n",
       "      <td>0</td>\n",
       "      <td>0.00000</td>\n",
       "    </tr>\n",
       "  </tbody>\n",
       "</table>\n",
       "</div>"
      ],
      "text/plain": [
       "       week location_country  total_sessions  total_carts  total_checkouts  \\\n",
       "0  2020-W40          Germany             175            2                2   \n",
       "1  2020-W40            Spain             571           10                5   \n",
       "2  2020-W40           Turkey               2            0                0   \n",
       "3  2020-W40   Czech Republic               1            0                0   \n",
       "4  2020-W40            Macau               1            0                0   \n",
       "\n",
       "   total_orders_placed  total_conversion  \n",
       "0                    0           0.00000  \n",
       "1                    3           0.00525  \n",
       "2                    0           0.00000  \n",
       "3                    0           0.00000  \n",
       "4                    0           0.00000  "
      ]
     },
     "execution_count": 40,
     "metadata": {},
     "output_type": "execute_result"
    }
   ],
   "source": [
    "shp_Oct_co_rw.head()"
   ]
  },
  {
   "cell_type": "code",
   "execution_count": 41,
   "metadata": {},
   "outputs": [
    {
     "data": {
      "text/plain": [
       "161"
      ]
     },
     "execution_count": 41,
     "metadata": {},
     "output_type": "execute_result"
    }
   ],
   "source": [
    "len(shp_Oct_co_rw)"
   ]
  },
  {
   "cell_type": "code",
   "execution_count": 42,
   "metadata": {},
   "outputs": [],
   "source": [
    "#Primero vamos a analizar el computo mensual\n",
    "shp_Oct_co = shp_Oct_co_rw.groupby(\"location_country\").sum()"
   ]
  },
  {
   "cell_type": "code",
   "execution_count": 43,
   "metadata": {},
   "outputs": [
    {
     "data": {
      "text/html": [
       "<div>\n",
       "<style scoped>\n",
       "    .dataframe tbody tr th:only-of-type {\n",
       "        vertical-align: middle;\n",
       "    }\n",
       "\n",
       "    .dataframe tbody tr th {\n",
       "        vertical-align: top;\n",
       "    }\n",
       "\n",
       "    .dataframe thead th {\n",
       "        text-align: right;\n",
       "    }\n",
       "</style>\n",
       "<table border=\"1\" class=\"dataframe\">\n",
       "  <thead>\n",
       "    <tr style=\"text-align: right;\">\n",
       "      <th></th>\n",
       "      <th>total_sessions</th>\n",
       "      <th>total_carts</th>\n",
       "      <th>total_checkouts</th>\n",
       "      <th>total_orders_placed</th>\n",
       "      <th>total_conversion</th>\n",
       "    </tr>\n",
       "    <tr>\n",
       "      <th>location_country</th>\n",
       "      <th></th>\n",
       "      <th></th>\n",
       "      <th></th>\n",
       "      <th></th>\n",
       "      <th></th>\n",
       "    </tr>\n",
       "  </thead>\n",
       "  <tbody>\n",
       "    <tr>\n",
       "      <th>Argentina</th>\n",
       "      <td>3</td>\n",
       "      <td>0</td>\n",
       "      <td>0</td>\n",
       "      <td>0</td>\n",
       "      <td>0.00000</td>\n",
       "    </tr>\n",
       "    <tr>\n",
       "      <th>Australia</th>\n",
       "      <td>2</td>\n",
       "      <td>0</td>\n",
       "      <td>0</td>\n",
       "      <td>0</td>\n",
       "      <td>0.00000</td>\n",
       "    </tr>\n",
       "    <tr>\n",
       "      <th>Austria</th>\n",
       "      <td>125</td>\n",
       "      <td>5</td>\n",
       "      <td>2</td>\n",
       "      <td>0</td>\n",
       "      <td>0.00000</td>\n",
       "    </tr>\n",
       "    <tr>\n",
       "      <th>Belgium</th>\n",
       "      <td>439</td>\n",
       "      <td>10</td>\n",
       "      <td>4</td>\n",
       "      <td>3</td>\n",
       "      <td>0.03901</td>\n",
       "    </tr>\n",
       "    <tr>\n",
       "      <th>Brazil</th>\n",
       "      <td>5</td>\n",
       "      <td>0</td>\n",
       "      <td>0</td>\n",
       "      <td>0</td>\n",
       "      <td>0.00000</td>\n",
       "    </tr>\n",
       "  </tbody>\n",
       "</table>\n",
       "</div>"
      ],
      "text/plain": [
       "                  total_sessions  total_carts  total_checkouts  \\\n",
       "location_country                                                 \n",
       "Argentina                      3            0                0   \n",
       "Australia                      2            0                0   \n",
       "Austria                      125            5                2   \n",
       "Belgium                      439           10                4   \n",
       "Brazil                         5            0                0   \n",
       "\n",
       "                  total_orders_placed  total_conversion  \n",
       "location_country                                         \n",
       "Argentina                           0           0.00000  \n",
       "Australia                           0           0.00000  \n",
       "Austria                             0           0.00000  \n",
       "Belgium                             3           0.03901  \n",
       "Brazil                              0           0.00000  "
      ]
     },
     "execution_count": 43,
     "metadata": {},
     "output_type": "execute_result"
    }
   ],
   "source": [
    "shp_Oct_co.head()"
   ]
  },
  {
   "cell_type": "code",
   "execution_count": 44,
   "metadata": {},
   "outputs": [],
   "source": [
    "#for ind in shp_Oct_co.index:\n",
    "#    mx_t = max(shp_Oct_co.loc[ind])\n",
    "#    mi_t = min(shp_Oct_co.loc[ind])\n",
    "#    av_t = np.mean(shp_Oct_co.loc[ind])\n",
    "#    va_t = np.var(shp_Oct_co.loc[ind])\n",
    "#    \n",
    "#    print(\"########################################################\")\n",
    "#    print(\"Valor max del pais %s es: %s\" % (ind, mx_t))\n",
    "#    print(\"Valor min del pais  %s es: %s\" % (ind, mi_t))\n",
    "#    print(\"Valor medio del pais %s es: %s\" % (ind, av_t))\n",
    "#    print(\"Valor varianza del pais %s es: %s\" % (ind, va_t))\n",
    "#    print(\"########################################################\")"
   ]
  },
  {
   "cell_type": "code",
   "execution_count": 45,
   "metadata": {},
   "outputs": [
    {
     "data": {
      "image/png": "[encoded data removed]",
      "text/plain": [
       "<Figure size 1440x1440 with 6 Axes>"
      ]
     },
     "metadata": {
      "needs_background": "light"
     },
     "output_type": "display_data"
    }
   ],
   "source": [
    "#fig1 = plt.figure(\"Vision General\")\n",
    "#fig1.subplots_adjust(hspace=1, wspace=1)\n",
    "fig, ax = plt.subplots(figsize = (20,20), sharex = True)\n",
    "\n",
    "i = 1\n",
    "for col in shp_Oct_co.columns:\n",
    "\n",
    "    ax = fig.add_subplot(5, 1, i)\n",
    "    plt.boxplot(shp_Oct_co[col], vert=False)    \n",
    "#Esto nos permite cambiar la horientacion de la etiquetas.\n",
    "    plt.title('Eventos de %s' % col)\n",
    "    i += 1\n",
    "\n",
    "plt.show()"
   ]
  },
  {
   "cell_type": "code",
   "execution_count": 69,
   "metadata": {},
   "outputs": [
    {
     "data": {
      "image/png": "[encoded data removed]",
      "text/plain": [
       "<Figure size 1440x1440 with 1 Axes>"
      ]
     },
     "metadata": {
      "needs_background": "light"
     },
     "output_type": "display_data"
    },
    {
     "data": {
      "image/png": "[encoded data removed]",
      "text/plain": [
       "<Figure size 1440x1440 with 1 Axes>"
      ]
     },
     "metadata": {
      "needs_background": "light"
     },
     "output_type": "display_data"
    }
   ],
   "source": [
    "bar_tru(shp_Oct_co, 1)"
   ]
  },
  {
   "cell_type": "markdown",
   "metadata": {},
   "source": [
    "### Distribucion de paises con mas de 50 visualizciones."
   ]
  },
  {
   "cell_type": "code",
   "execution_count": 47,
   "metadata": {},
   "outputs": [],
   "source": [
    "msk_1_bq = shp_Oct_co[\"total_sessions\"] > 50\n",
    "ci_1_bq = shp_Oct_co[msk_1_bq]"
   ]
  },
  {
   "cell_type": "code",
   "execution_count": 48,
   "metadata": {},
   "outputs": [
    {
     "data": {
      "image/png": "[encoded data removed]",
      "text/plain": [
       "<Figure size 1440x1440 with 6 Axes>"
      ]
     },
     "metadata": {
      "needs_background": "light"
     },
     "output_type": "display_data"
    }
   ],
   "source": [
    "#fig1 = plt.figure(\"Vision General\")\n",
    "#fig1.subplots_adjust(hspace=1, wspace=1)\n",
    "fig, ax = plt.subplots(figsize = (20,20), sharex = True)\n",
    "\n",
    "i = 1\n",
    "for col in ci_1_bq.columns:\n",
    "\n",
    "    ax = fig.add_subplot(5, 1, i)\n",
    "    plt.boxplot(ci_1_bq[col], vert=False)    \n",
    "#Esto nos permite cambiar la horientacion de la etiquetas.\n",
    "    plt.title('Eventos de %s' % col)\n",
    "    i += 1\n",
    "\n",
    "plt.show()"
   ]
  },
  {
   "cell_type": "code",
   "execution_count": 49,
   "metadata": {},
   "outputs": [
    {
     "name": "stdout",
     "output_type": "stream",
     "text": [
      "El numero de paises en el primer bloque es:  17\n"
     ]
    }
   ],
   "source": [
    "print(\"El numero de paises en el primer bloque es: \", str(len(ci_1_bq)))"
   ]
  },
  {
   "cell_type": "code",
   "execution_count": 70,
   "metadata": {},
   "outputs": [
    {
     "data": {
      "image/png": "[encoded data removed]",
      "text/plain": [
       "<Figure size 1440x1440 with 1 Axes>"
      ]
     },
     "metadata": {
      "needs_background": "light"
     },
     "output_type": "display_data"
    },
    {
     "data": {
      "image/png": "[encoded data removed]",
      "text/plain": [
       "<Figure size 1440x1440 with 1 Axes>"
      ]
     },
     "metadata": {
      "needs_background": "light"
     },
     "output_type": "display_data"
    }
   ],
   "source": [
    "bar_tru(ci_1_bq, 10)"
   ]
  },
  {
   "cell_type": "markdown",
   "metadata": {},
   "source": [
    "### Distribucion de paises con mas de 150 visitas."
   ]
  },
  {
   "cell_type": "code",
   "execution_count": 51,
   "metadata": {},
   "outputs": [],
   "source": [
    "msk_2_bq = shp_Oct_co[\"total_sessions\"] > 150\n",
    "ci_2_bq = shp_Oct_co[msk_2_bq]"
   ]
  },
  {
   "cell_type": "code",
   "execution_count": 52,
   "metadata": {},
   "outputs": [
    {
     "data": {
      "image/png": "[encoded data removed]",
      "text/plain": [
       "<Figure size 1440x1440 with 6 Axes>"
      ]
     },
     "metadata": {
      "needs_background": "light"
     },
     "output_type": "display_data"
    }
   ],
   "source": [
    "#fig1 = plt.figure(\"Vision General\")\n",
    "#fig1.subplots_adjust(hspace=1, wspace=1)\n",
    "fig, ax = plt.subplots(figsize = (20,20), sharex = True)\n",
    "\n",
    "i = 1\n",
    "for col in ci_2_bq.columns:\n",
    "\n",
    "    ax = fig.add_subplot(5, 1, i)\n",
    "    plt.boxplot(ci_2_bq[col], vert=False)    \n",
    "#Esto nos permite cambiar la horientacion de la etiquetas.\n",
    "    plt.title('Eventos de %s' % col)\n",
    "    i += 1\n",
    "\n",
    "plt.show()"
   ]
  },
  {
   "cell_type": "code",
   "execution_count": 53,
   "metadata": {},
   "outputs": [
    {
     "name": "stdout",
     "output_type": "stream",
     "text": [
      "El numero de paises en el primer bloque es:  11\n"
     ]
    }
   ],
   "source": [
    "print(\"El numero de paises en el primer bloque es: \", str(len(ci_2_bq)))"
   ]
  },
  {
   "cell_type": "markdown",
   "metadata": {},
   "source": [
    "Planteamos la normalizacion de la columna total_sessions. De esta forma pretendemos visibilizar la progresion de eventos con mejor resolucion,"
   ]
  },
  {
   "cell_type": "code",
   "execution_count": 54,
   "metadata": {},
   "outputs": [],
   "source": [
    "#Vamos a normalizar la columna total_sessions\n",
    "ci_2_bq_nor = copy.copy(ci_2_bq)\n",
    "ci_2_bq_nor[\"total_sessions\"] = ci_2_bq_nor[\"total_sessions\"]/10"
   ]
  },
  {
   "cell_type": "code",
   "execution_count": 55,
   "metadata": {},
   "outputs": [
    {
     "data": {
      "text/html": [
       "<div>\n",
       "<style scoped>\n",
       "    .dataframe tbody tr th:only-of-type {\n",
       "        vertical-align: middle;\n",
       "    }\n",
       "\n",
       "    .dataframe tbody tr th {\n",
       "        vertical-align: top;\n",
       "    }\n",
       "\n",
       "    .dataframe thead th {\n",
       "        text-align: right;\n",
       "    }\n",
       "</style>\n",
       "<table border=\"1\" class=\"dataframe\">\n",
       "  <thead>\n",
       "    <tr style=\"text-align: right;\">\n",
       "      <th></th>\n",
       "      <th>total_sessions</th>\n",
       "      <th>total_carts</th>\n",
       "      <th>total_checkouts</th>\n",
       "      <th>total_orders_placed</th>\n",
       "      <th>total_conversion</th>\n",
       "    </tr>\n",
       "    <tr>\n",
       "      <th>location_country</th>\n",
       "      <th></th>\n",
       "      <th></th>\n",
       "      <th></th>\n",
       "      <th></th>\n",
       "      <th></th>\n",
       "    </tr>\n",
       "  </thead>\n",
       "  <tbody>\n",
       "    <tr>\n",
       "      <th>Belgium</th>\n",
       "      <td>43.9</td>\n",
       "      <td>10</td>\n",
       "      <td>4</td>\n",
       "      <td>3</td>\n",
       "      <td>0.03901</td>\n",
       "    </tr>\n",
       "    <tr>\n",
       "      <th>Finland</th>\n",
       "      <td>18.1</td>\n",
       "      <td>1</td>\n",
       "      <td>1</td>\n",
       "      <td>1</td>\n",
       "      <td>0.01785</td>\n",
       "    </tr>\n",
       "    <tr>\n",
       "      <th>France</th>\n",
       "      <td>109.2</td>\n",
       "      <td>16</td>\n",
       "      <td>6</td>\n",
       "      <td>3</td>\n",
       "      <td>0.01270</td>\n",
       "    </tr>\n",
       "    <tr>\n",
       "      <th>Germany</th>\n",
       "      <td>126.3</td>\n",
       "      <td>22</td>\n",
       "      <td>12</td>\n",
       "      <td>6</td>\n",
       "      <td>0.01934</td>\n",
       "    </tr>\n",
       "    <tr>\n",
       "      <th>Italy</th>\n",
       "      <td>91.6</td>\n",
       "      <td>19</td>\n",
       "      <td>10</td>\n",
       "      <td>6</td>\n",
       "      <td>0.03008</td>\n",
       "    </tr>\n",
       "  </tbody>\n",
       "</table>\n",
       "</div>"
      ],
      "text/plain": [
       "                  total_sessions  total_carts  total_checkouts  \\\n",
       "location_country                                                 \n",
       "Belgium                     43.9           10                4   \n",
       "Finland                     18.1            1                1   \n",
       "France                     109.2           16                6   \n",
       "Germany                    126.3           22               12   \n",
       "Italy                       91.6           19               10   \n",
       "\n",
       "                  total_orders_placed  total_conversion  \n",
       "location_country                                         \n",
       "Belgium                             3           0.03901  \n",
       "Finland                             1           0.01785  \n",
       "France                              3           0.01270  \n",
       "Germany                             6           0.01934  \n",
       "Italy                               6           0.03008  "
      ]
     },
     "execution_count": 55,
     "metadata": {},
     "output_type": "execute_result"
    }
   ],
   "source": [
    "ci_2_bq_nor.head()"
   ]
  },
  {
   "cell_type": "code",
   "execution_count": 56,
   "metadata": {},
   "outputs": [],
   "source": [
    "def plot_Bars(df, titulo:str):\n",
    "        \n",
    "    ind = df.index # the x locations for the groups\n",
    "    width = 0.35\n",
    "    fig1, ax1 = plt.subplots(figsize = (20,20), sharex = True)\n",
    "\n",
    "    for cont in df.columns:\n",
    "        r = random.random()\n",
    "        b = random.random()\n",
    "        g = random.random()\n",
    "        color = (r, g, b)\n",
    "        ax1.bar(ind, df[cont], width, color=color)\n",
    "        \n",
    "    ax1.set_ylabel(titulo)\n",
    "    ax1.legend(labels=df.columns)\n",
    "    plt.show()"
   ]
  },
  {
   "cell_type": "code",
   "execution_count": 57,
   "metadata": {},
   "outputs": [],
   "source": [
    "def bar_tru(df, nor:int):\n",
    "    \n",
    "    #Reducimos el valor de la columna total_sessions\n",
    "    df_c = copy.copy(df)\n",
    "    df_c[\"total_sessions\"] = df_c[\"total_sessions\"]/nor\n",
    "    \n",
    "    #Pintamos grafica de barras\n",
    "    plot_Bars(df_c, \"Por paises\")\n",
    "    \n",
    "    df_t = df_c.T\n",
    "    #Pintamos grafica de barras de df trans.\n",
    "    plot_Bars(df_t, \"Por eventos\")"
   ]
  },
  {
   "cell_type": "code",
   "execution_count": 58,
   "metadata": {},
   "outputs": [],
   "source": [
    "#bar_tru(ci_2_bq_nor, 1)"
   ]
  },
  {
   "cell_type": "code",
   "execution_count": 59,
   "metadata": {},
   "outputs": [
    {
     "data": {
      "text/plain": [
       "('Afghanistan', '2020-08')"
      ]
     },
     "execution_count": 59,
     "metadata": {},
     "output_type": "execute_result"
    }
   ],
   "source": [
    "schp_year_gr.index[0]"
   ]
  },
  {
   "cell_type": "code",
   "execution_count": 1,
   "metadata": {},
   "outputs": [],
   "source": [
    "#bar_tru(schp_year_gr,10)"
   ]
  },
  {
   "cell_type": "markdown",
   "metadata": {},
   "source": [
    "### Data Value"
   ]
  },
  {
   "cell_type": "markdown",
   "metadata": {},
   "source": [
    "Vamos a desarrollar una serie de visualizaciones y de selecciones para encontrar informacion."
   ]
  },
  {
   "cell_type": "code",
   "execution_count": 61,
   "metadata": {},
   "outputs": [
    {
     "data": {
      "text/html": [
       "<div>\n",
       "<style scoped>\n",
       "    .dataframe tbody tr th:only-of-type {\n",
       "        vertical-align: middle;\n",
       "    }\n",
       "\n",
       "    .dataframe tbody tr th {\n",
       "        vertical-align: top;\n",
       "    }\n",
       "\n",
       "    .dataframe thead th {\n",
       "        text-align: right;\n",
       "    }\n",
       "</style>\n",
       "<table border=\"1\" class=\"dataframe\">\n",
       "  <thead>\n",
       "    <tr style=\"text-align: right;\">\n",
       "      <th></th>\n",
       "      <th>total_sessions</th>\n",
       "      <th>total_carts</th>\n",
       "      <th>total_checkouts</th>\n",
       "      <th>total_orders_placed</th>\n",
       "      <th>total_conversion</th>\n",
       "    </tr>\n",
       "    <tr>\n",
       "      <th>location_country</th>\n",
       "      <th></th>\n",
       "      <th></th>\n",
       "      <th></th>\n",
       "      <th></th>\n",
       "      <th></th>\n",
       "    </tr>\n",
       "  </thead>\n",
       "  <tbody>\n",
       "    <tr>\n",
       "      <th>Argentina</th>\n",
       "      <td>3</td>\n",
       "      <td>0</td>\n",
       "      <td>0</td>\n",
       "      <td>0</td>\n",
       "      <td>0.00000</td>\n",
       "    </tr>\n",
       "    <tr>\n",
       "      <th>Australia</th>\n",
       "      <td>2</td>\n",
       "      <td>0</td>\n",
       "      <td>0</td>\n",
       "      <td>0</td>\n",
       "      <td>0.00000</td>\n",
       "    </tr>\n",
       "    <tr>\n",
       "      <th>Austria</th>\n",
       "      <td>125</td>\n",
       "      <td>5</td>\n",
       "      <td>2</td>\n",
       "      <td>0</td>\n",
       "      <td>0.00000</td>\n",
       "    </tr>\n",
       "    <tr>\n",
       "      <th>Belgium</th>\n",
       "      <td>439</td>\n",
       "      <td>10</td>\n",
       "      <td>4</td>\n",
       "      <td>3</td>\n",
       "      <td>0.03901</td>\n",
       "    </tr>\n",
       "    <tr>\n",
       "      <th>Brazil</th>\n",
       "      <td>5</td>\n",
       "      <td>0</td>\n",
       "      <td>0</td>\n",
       "      <td>0</td>\n",
       "      <td>0.00000</td>\n",
       "    </tr>\n",
       "  </tbody>\n",
       "</table>\n",
       "</div>"
      ],
      "text/plain": [
       "                  total_sessions  total_carts  total_checkouts  \\\n",
       "location_country                                                 \n",
       "Argentina                      3            0                0   \n",
       "Australia                      2            0                0   \n",
       "Austria                      125            5                2   \n",
       "Belgium                      439           10                4   \n",
       "Brazil                         5            0                0   \n",
       "\n",
       "                  total_orders_placed  total_conversion  \n",
       "location_country                                         \n",
       "Argentina                           0           0.00000  \n",
       "Australia                           0           0.00000  \n",
       "Austria                             0           0.00000  \n",
       "Belgium                             3           0.03901  \n",
       "Brazil                              0           0.00000  "
      ]
     },
     "execution_count": 61,
     "metadata": {},
     "output_type": "execute_result"
    }
   ],
   "source": [
    "shp_ct_co = copy.copy(shp_Oct_co)\n",
    "shp_ct_co.head()"
   ]
  },
  {
   "cell_type": "code",
   "execution_count": 62,
   "metadata": {},
   "outputs": [
    {
     "data": {
      "text/html": [
       "<div>\n",
       "<style scoped>\n",
       "    .dataframe tbody tr th:only-of-type {\n",
       "        vertical-align: middle;\n",
       "    }\n",
       "\n",
       "    .dataframe tbody tr th {\n",
       "        vertical-align: top;\n",
       "    }\n",
       "\n",
       "    .dataframe thead th {\n",
       "        text-align: right;\n",
       "    }\n",
       "</style>\n",
       "<table border=\"1\" class=\"dataframe\">\n",
       "  <thead>\n",
       "    <tr style=\"text-align: right;\">\n",
       "      <th></th>\n",
       "      <th>total_sessions</th>\n",
       "      <th>total_carts</th>\n",
       "      <th>total_checkouts</th>\n",
       "      <th>total_orders_placed</th>\n",
       "      <th>total_conversion</th>\n",
       "    </tr>\n",
       "    <tr>\n",
       "      <th>location_country</th>\n",
       "      <th></th>\n",
       "      <th></th>\n",
       "      <th></th>\n",
       "      <th></th>\n",
       "      <th></th>\n",
       "    </tr>\n",
       "  </thead>\n",
       "  <tbody>\n",
       "    <tr>\n",
       "      <th>Belgium</th>\n",
       "      <td>439</td>\n",
       "      <td>10</td>\n",
       "      <td>4</td>\n",
       "      <td>3</td>\n",
       "      <td>0.03901</td>\n",
       "    </tr>\n",
       "    <tr>\n",
       "      <th>Italy</th>\n",
       "      <td>916</td>\n",
       "      <td>19</td>\n",
       "      <td>10</td>\n",
       "      <td>6</td>\n",
       "      <td>0.03008</td>\n",
       "    </tr>\n",
       "    <tr>\n",
       "      <th>Netherlands</th>\n",
       "      <td>4013</td>\n",
       "      <td>91</td>\n",
       "      <td>41</td>\n",
       "      <td>19</td>\n",
       "      <td>0.02213</td>\n",
       "    </tr>\n",
       "    <tr>\n",
       "      <th>United Kingdom</th>\n",
       "      <td>732</td>\n",
       "      <td>9</td>\n",
       "      <td>5</td>\n",
       "      <td>2</td>\n",
       "      <td>0.02129</td>\n",
       "    </tr>\n",
       "    <tr>\n",
       "      <th>Germany</th>\n",
       "      <td>1263</td>\n",
       "      <td>22</td>\n",
       "      <td>12</td>\n",
       "      <td>6</td>\n",
       "      <td>0.01934</td>\n",
       "    </tr>\n",
       "    <tr>\n",
       "      <th>Finland</th>\n",
       "      <td>181</td>\n",
       "      <td>1</td>\n",
       "      <td>1</td>\n",
       "      <td>1</td>\n",
       "      <td>0.01785</td>\n",
       "    </tr>\n",
       "    <tr>\n",
       "      <th>Spain</th>\n",
       "      <td>3176</td>\n",
       "      <td>41</td>\n",
       "      <td>21</td>\n",
       "      <td>11</td>\n",
       "      <td>0.01638</td>\n",
       "    </tr>\n",
       "    <tr>\n",
       "      <th>France</th>\n",
       "      <td>1092</td>\n",
       "      <td>16</td>\n",
       "      <td>6</td>\n",
       "      <td>3</td>\n",
       "      <td>0.01270</td>\n",
       "    </tr>\n",
       "    <tr>\n",
       "      <th>Morocco</th>\n",
       "      <td>1</td>\n",
       "      <td>0</td>\n",
       "      <td>0</td>\n",
       "      <td>0</td>\n",
       "      <td>0.00000</td>\n",
       "    </tr>\n",
       "    <tr>\n",
       "      <th>Montenegro</th>\n",
       "      <td>1</td>\n",
       "      <td>0</td>\n",
       "      <td>0</td>\n",
       "      <td>0</td>\n",
       "      <td>0.00000</td>\n",
       "    </tr>\n",
       "    <tr>\n",
       "      <th>Mexico</th>\n",
       "      <td>2</td>\n",
       "      <td>0</td>\n",
       "      <td>0</td>\n",
       "      <td>0</td>\n",
       "      <td>0.00000</td>\n",
       "    </tr>\n",
       "    <tr>\n",
       "      <th>Norway</th>\n",
       "      <td>129</td>\n",
       "      <td>2</td>\n",
       "      <td>0</td>\n",
       "      <td>0</td>\n",
       "      <td>0.00000</td>\n",
       "    </tr>\n",
       "    <tr>\n",
       "      <th>Philippines</th>\n",
       "      <td>2</td>\n",
       "      <td>0</td>\n",
       "      <td>0</td>\n",
       "      <td>0</td>\n",
       "      <td>0.00000</td>\n",
       "    </tr>\n",
       "    <tr>\n",
       "      <th>Poland</th>\n",
       "      <td>18</td>\n",
       "      <td>0</td>\n",
       "      <td>0</td>\n",
       "      <td>0</td>\n",
       "      <td>0.00000</td>\n",
       "    </tr>\n",
       "    <tr>\n",
       "      <th>Portugal</th>\n",
       "      <td>374</td>\n",
       "      <td>3</td>\n",
       "      <td>0</td>\n",
       "      <td>0</td>\n",
       "      <td>0.00000</td>\n",
       "    </tr>\n",
       "    <tr>\n",
       "      <th>Romania</th>\n",
       "      <td>12</td>\n",
       "      <td>0</td>\n",
       "      <td>0</td>\n",
       "      <td>0</td>\n",
       "      <td>0.00000</td>\n",
       "    </tr>\n",
       "    <tr>\n",
       "      <th>Martinique</th>\n",
       "      <td>1</td>\n",
       "      <td>0</td>\n",
       "      <td>0</td>\n",
       "      <td>0</td>\n",
       "      <td>0.00000</td>\n",
       "    </tr>\n",
       "    <tr>\n",
       "      <th>Argentina</th>\n",
       "      <td>3</td>\n",
       "      <td>0</td>\n",
       "      <td>0</td>\n",
       "      <td>0</td>\n",
       "      <td>0.00000</td>\n",
       "    </tr>\n",
       "    <tr>\n",
       "      <th>Russian Federation</th>\n",
       "      <td>6</td>\n",
       "      <td>0</td>\n",
       "      <td>0</td>\n",
       "      <td>0</td>\n",
       "      <td>0.00000</td>\n",
       "    </tr>\n",
       "    <tr>\n",
       "      <th>Macau</th>\n",
       "      <td>1</td>\n",
       "      <td>0</td>\n",
       "      <td>0</td>\n",
       "      <td>0</td>\n",
       "      <td>0.00000</td>\n",
       "    </tr>\n",
       "    <tr>\n",
       "      <th>Saudi Arabia</th>\n",
       "      <td>9</td>\n",
       "      <td>1</td>\n",
       "      <td>0</td>\n",
       "      <td>0</td>\n",
       "      <td>0.00000</td>\n",
       "    </tr>\n",
       "    <tr>\n",
       "      <th>Slovakia</th>\n",
       "      <td>2</td>\n",
       "      <td>0</td>\n",
       "      <td>0</td>\n",
       "      <td>0</td>\n",
       "      <td>0.00000</td>\n",
       "    </tr>\n",
       "    <tr>\n",
       "      <th>Slovenia</th>\n",
       "      <td>1</td>\n",
       "      <td>0</td>\n",
       "      <td>0</td>\n",
       "      <td>0</td>\n",
       "      <td>0.00000</td>\n",
       "    </tr>\n",
       "    <tr>\n",
       "      <th>South Africa</th>\n",
       "      <td>2</td>\n",
       "      <td>1</td>\n",
       "      <td>0</td>\n",
       "      <td>0</td>\n",
       "      <td>0.00000</td>\n",
       "    </tr>\n",
       "    <tr>\n",
       "      <th>Sweden</th>\n",
       "      <td>300</td>\n",
       "      <td>2</td>\n",
       "      <td>0</td>\n",
       "      <td>0</td>\n",
       "      <td>0.00000</td>\n",
       "    </tr>\n",
       "    <tr>\n",
       "      <th>Switzerland</th>\n",
       "      <td>84</td>\n",
       "      <td>0</td>\n",
       "      <td>0</td>\n",
       "      <td>0</td>\n",
       "      <td>0.00000</td>\n",
       "    </tr>\n",
       "    <tr>\n",
       "      <th>Tanzania, United Republic of</th>\n",
       "      <td>1</td>\n",
       "      <td>0</td>\n",
       "      <td>0</td>\n",
       "      <td>0</td>\n",
       "      <td>0.00000</td>\n",
       "    </tr>\n",
       "    <tr>\n",
       "      <th>Turkey</th>\n",
       "      <td>5</td>\n",
       "      <td>0</td>\n",
       "      <td>0</td>\n",
       "      <td>0</td>\n",
       "      <td>0.00000</td>\n",
       "    </tr>\n",
       "    <tr>\n",
       "      <th>Ukraine</th>\n",
       "      <td>2</td>\n",
       "      <td>0</td>\n",
       "      <td>0</td>\n",
       "      <td>0</td>\n",
       "      <td>0.00000</td>\n",
       "    </tr>\n",
       "    <tr>\n",
       "      <th>United Arab Emirates</th>\n",
       "      <td>1</td>\n",
       "      <td>0</td>\n",
       "      <td>0</td>\n",
       "      <td>0</td>\n",
       "      <td>0.00000</td>\n",
       "    </tr>\n",
       "    <tr>\n",
       "      <th>Malta</th>\n",
       "      <td>3</td>\n",
       "      <td>0</td>\n",
       "      <td>0</td>\n",
       "      <td>0</td>\n",
       "      <td>0.00000</td>\n",
       "    </tr>\n",
       "    <tr>\n",
       "      <th>Kuwait</th>\n",
       "      <td>1</td>\n",
       "      <td>0</td>\n",
       "      <td>0</td>\n",
       "      <td>0</td>\n",
       "      <td>0.00000</td>\n",
       "    </tr>\n",
       "    <tr>\n",
       "      <th>Luxembourg</th>\n",
       "      <td>17</td>\n",
       "      <td>0</td>\n",
       "      <td>0</td>\n",
       "      <td>0</td>\n",
       "      <td>0.00000</td>\n",
       "    </tr>\n",
       "    <tr>\n",
       "      <th>Latvia</th>\n",
       "      <td>3</td>\n",
       "      <td>0</td>\n",
       "      <td>0</td>\n",
       "      <td>0</td>\n",
       "      <td>0.00000</td>\n",
       "    </tr>\n",
       "    <tr>\n",
       "      <th>Austria</th>\n",
       "      <td>125</td>\n",
       "      <td>5</td>\n",
       "      <td>2</td>\n",
       "      <td>0</td>\n",
       "      <td>0.00000</td>\n",
       "    </tr>\n",
       "    <tr>\n",
       "      <th>Brazil</th>\n",
       "      <td>5</td>\n",
       "      <td>0</td>\n",
       "      <td>0</td>\n",
       "      <td>0</td>\n",
       "      <td>0.00000</td>\n",
       "    </tr>\n",
       "    <tr>\n",
       "      <th>Canada</th>\n",
       "      <td>13</td>\n",
       "      <td>0</td>\n",
       "      <td>0</td>\n",
       "      <td>0</td>\n",
       "      <td>0.00000</td>\n",
       "    </tr>\n",
       "    <tr>\n",
       "      <th>Chile</th>\n",
       "      <td>2</td>\n",
       "      <td>0</td>\n",
       "      <td>0</td>\n",
       "      <td>0</td>\n",
       "      <td>0.00000</td>\n",
       "    </tr>\n",
       "    <tr>\n",
       "      <th>China</th>\n",
       "      <td>3</td>\n",
       "      <td>0</td>\n",
       "      <td>0</td>\n",
       "      <td>0</td>\n",
       "      <td>0.00000</td>\n",
       "    </tr>\n",
       "    <tr>\n",
       "      <th>Colombia</th>\n",
       "      <td>1</td>\n",
       "      <td>1</td>\n",
       "      <td>0</td>\n",
       "      <td>0</td>\n",
       "      <td>0.00000</td>\n",
       "    </tr>\n",
       "    <tr>\n",
       "      <th>Croatia</th>\n",
       "      <td>32</td>\n",
       "      <td>1</td>\n",
       "      <td>1</td>\n",
       "      <td>0</td>\n",
       "      <td>0.00000</td>\n",
       "    </tr>\n",
       "    <tr>\n",
       "      <th>Cyprus</th>\n",
       "      <td>1</td>\n",
       "      <td>0</td>\n",
       "      <td>0</td>\n",
       "      <td>0</td>\n",
       "      <td>0.00000</td>\n",
       "    </tr>\n",
       "    <tr>\n",
       "      <th>Czech Republic</th>\n",
       "      <td>7</td>\n",
       "      <td>0</td>\n",
       "      <td>0</td>\n",
       "      <td>0</td>\n",
       "      <td>0.00000</td>\n",
       "    </tr>\n",
       "    <tr>\n",
       "      <th>Denmark</th>\n",
       "      <td>142</td>\n",
       "      <td>2</td>\n",
       "      <td>0</td>\n",
       "      <td>0</td>\n",
       "      <td>0.00000</td>\n",
       "    </tr>\n",
       "    <tr>\n",
       "      <th>Dominican Republic</th>\n",
       "      <td>1</td>\n",
       "      <td>0</td>\n",
       "      <td>0</td>\n",
       "      <td>0</td>\n",
       "      <td>0.00000</td>\n",
       "    </tr>\n",
       "    <tr>\n",
       "      <th>Estonia</th>\n",
       "      <td>1</td>\n",
       "      <td>0</td>\n",
       "      <td>0</td>\n",
       "      <td>0</td>\n",
       "      <td>0.00000</td>\n",
       "    </tr>\n",
       "    <tr>\n",
       "      <th>Europe</th>\n",
       "      <td>2</td>\n",
       "      <td>0</td>\n",
       "      <td>0</td>\n",
       "      <td>0</td>\n",
       "      <td>0.00000</td>\n",
       "    </tr>\n",
       "    <tr>\n",
       "      <th>Greece</th>\n",
       "      <td>68</td>\n",
       "      <td>1</td>\n",
       "      <td>0</td>\n",
       "      <td>0</td>\n",
       "      <td>0.00000</td>\n",
       "    </tr>\n",
       "    <tr>\n",
       "      <th>Guatemala</th>\n",
       "      <td>1</td>\n",
       "      <td>0</td>\n",
       "      <td>0</td>\n",
       "      <td>0</td>\n",
       "      <td>0.00000</td>\n",
       "    </tr>\n",
       "    <tr>\n",
       "      <th>Hong Kong</th>\n",
       "      <td>1</td>\n",
       "      <td>0</td>\n",
       "      <td>0</td>\n",
       "      <td>0</td>\n",
       "      <td>0.00000</td>\n",
       "    </tr>\n",
       "    <tr>\n",
       "      <th>Hungary</th>\n",
       "      <td>3</td>\n",
       "      <td>0</td>\n",
       "      <td>0</td>\n",
       "      <td>0</td>\n",
       "      <td>0.00000</td>\n",
       "    </tr>\n",
       "    <tr>\n",
       "      <th>India</th>\n",
       "      <td>2</td>\n",
       "      <td>0</td>\n",
       "      <td>0</td>\n",
       "      <td>0</td>\n",
       "      <td>0.00000</td>\n",
       "    </tr>\n",
       "    <tr>\n",
       "      <th>Ireland</th>\n",
       "      <td>109</td>\n",
       "      <td>0</td>\n",
       "      <td>0</td>\n",
       "      <td>0</td>\n",
       "      <td>0.00000</td>\n",
       "    </tr>\n",
       "    <tr>\n",
       "      <th>Israel</th>\n",
       "      <td>2</td>\n",
       "      <td>0</td>\n",
       "      <td>0</td>\n",
       "      <td>0</td>\n",
       "      <td>0.00000</td>\n",
       "    </tr>\n",
       "    <tr>\n",
       "      <th>Japan</th>\n",
       "      <td>1</td>\n",
       "      <td>0</td>\n",
       "      <td>0</td>\n",
       "      <td>0</td>\n",
       "      <td>0.00000</td>\n",
       "    </tr>\n",
       "    <tr>\n",
       "      <th>Korea, Republic of</th>\n",
       "      <td>1</td>\n",
       "      <td>0</td>\n",
       "      <td>0</td>\n",
       "      <td>0</td>\n",
       "      <td>0.00000</td>\n",
       "    </tr>\n",
       "    <tr>\n",
       "      <th>Australia</th>\n",
       "      <td>2</td>\n",
       "      <td>0</td>\n",
       "      <td>0</td>\n",
       "      <td>0</td>\n",
       "      <td>0.00000</td>\n",
       "    </tr>\n",
       "    <tr>\n",
       "      <th>United States</th>\n",
       "      <td>324</td>\n",
       "      <td>5</td>\n",
       "      <td>4</td>\n",
       "      <td>0</td>\n",
       "      <td>0.00000</td>\n",
       "    </tr>\n",
       "  </tbody>\n",
       "</table>\n",
       "</div>"
      ],
      "text/plain": [
       "                              total_sessions  total_carts  total_checkouts  \\\n",
       "location_country                                                             \n",
       "Belgium                                  439           10                4   \n",
       "Italy                                    916           19               10   \n",
       "Netherlands                             4013           91               41   \n",
       "United Kingdom                           732            9                5   \n",
       "Germany                                 1263           22               12   \n",
       "Finland                                  181            1                1   \n",
       "Spain                                   3176           41               21   \n",
       "France                                  1092           16                6   \n",
       "Morocco                                    1            0                0   \n",
       "Montenegro                                 1            0                0   \n",
       "Mexico                                     2            0                0   \n",
       "Norway                                   129            2                0   \n",
       "Philippines                                2            0                0   \n",
       "Poland                                    18            0                0   \n",
       "Portugal                                 374            3                0   \n",
       "Romania                                   12            0                0   \n",
       "Martinique                                 1            0                0   \n",
       "Argentina                                  3            0                0   \n",
       "Russian Federation                         6            0                0   \n",
       "Macau                                      1            0                0   \n",
       "Saudi Arabia                               9            1                0   \n",
       "Slovakia                                   2            0                0   \n",
       "Slovenia                                   1            0                0   \n",
       "South Africa                               2            1                0   \n",
       "Sweden                                   300            2                0   \n",
       "Switzerland                               84            0                0   \n",
       "Tanzania, United Republic of               1            0                0   \n",
       "Turkey                                     5            0                0   \n",
       "Ukraine                                    2            0                0   \n",
       "United Arab Emirates                       1            0                0   \n",
       "Malta                                      3            0                0   \n",
       "Kuwait                                     1            0                0   \n",
       "Luxembourg                                17            0                0   \n",
       "Latvia                                     3            0                0   \n",
       "Austria                                  125            5                2   \n",
       "Brazil                                     5            0                0   \n",
       "Canada                                    13            0                0   \n",
       "Chile                                      2            0                0   \n",
       "China                                      3            0                0   \n",
       "Colombia                                   1            1                0   \n",
       "Croatia                                   32            1                1   \n",
       "Cyprus                                     1            0                0   \n",
       "Czech Republic                             7            0                0   \n",
       "Denmark                                  142            2                0   \n",
       "Dominican Republic                         1            0                0   \n",
       "Estonia                                    1            0                0   \n",
       "Europe                                     2            0                0   \n",
       "Greece                                    68            1                0   \n",
       "Guatemala                                  1            0                0   \n",
       "Hong Kong                                  1            0                0   \n",
       "Hungary                                    3            0                0   \n",
       "India                                      2            0                0   \n",
       "Ireland                                  109            0                0   \n",
       "Israel                                     2            0                0   \n",
       "Japan                                      1            0                0   \n",
       "Korea, Republic of                         1            0                0   \n",
       "Australia                                  2            0                0   \n",
       "United States                            324            5                4   \n",
       "\n",
       "                              total_orders_placed  total_conversion  \n",
       "location_country                                                     \n",
       "Belgium                                         3           0.03901  \n",
       "Italy                                           6           0.03008  \n",
       "Netherlands                                    19           0.02213  \n",
       "United Kingdom                                  2           0.02129  \n",
       "Germany                                         6           0.01934  \n",
       "Finland                                         1           0.01785  \n",
       "Spain                                          11           0.01638  \n",
       "France                                          3           0.01270  \n",
       "Morocco                                         0           0.00000  \n",
       "Montenegro                                      0           0.00000  \n",
       "Mexico                                          0           0.00000  \n",
       "Norway                                          0           0.00000  \n",
       "Philippines                                     0           0.00000  \n",
       "Poland                                          0           0.00000  \n",
       "Portugal                                        0           0.00000  \n",
       "Romania                                         0           0.00000  \n",
       "Martinique                                      0           0.00000  \n",
       "Argentina                                       0           0.00000  \n",
       "Russian Federation                              0           0.00000  \n",
       "Macau                                           0           0.00000  \n",
       "Saudi Arabia                                    0           0.00000  \n",
       "Slovakia                                        0           0.00000  \n",
       "Slovenia                                        0           0.00000  \n",
       "South Africa                                    0           0.00000  \n",
       "Sweden                                          0           0.00000  \n",
       "Switzerland                                     0           0.00000  \n",
       "Tanzania, United Republic of                    0           0.00000  \n",
       "Turkey                                          0           0.00000  \n",
       "Ukraine                                         0           0.00000  \n",
       "United Arab Emirates                            0           0.00000  \n",
       "Malta                                           0           0.00000  \n",
       "Kuwait                                          0           0.00000  \n",
       "Luxembourg                                      0           0.00000  \n",
       "Latvia                                          0           0.00000  \n",
       "Austria                                         0           0.00000  \n",
       "Brazil                                          0           0.00000  \n",
       "Canada                                          0           0.00000  \n",
       "Chile                                           0           0.00000  \n",
       "China                                           0           0.00000  \n",
       "Colombia                                        0           0.00000  \n",
       "Croatia                                         0           0.00000  \n",
       "Cyprus                                          0           0.00000  \n",
       "Czech Republic                                  0           0.00000  \n",
       "Denmark                                         0           0.00000  \n",
       "Dominican Republic                              0           0.00000  \n",
       "Estonia                                         0           0.00000  \n",
       "Europe                                          0           0.00000  \n",
       "Greece                                          0           0.00000  \n",
       "Guatemala                                       0           0.00000  \n",
       "Hong Kong                                       0           0.00000  \n",
       "Hungary                                         0           0.00000  \n",
       "India                                           0           0.00000  \n",
       "Ireland                                         0           0.00000  \n",
       "Israel                                          0           0.00000  \n",
       "Japan                                           0           0.00000  \n",
       "Korea, Republic of                              0           0.00000  \n",
       "Australia                                       0           0.00000  \n",
       "United States                                   0           0.00000  "
      ]
     },
     "execution_count": 62,
     "metadata": {},
     "output_type": "execute_result"
    }
   ],
   "source": [
    "shp_ct_co.sort_values([\"total_conversion\"], ascending=False)"
   ]
  },
  {
   "cell_type": "code",
   "execution_count": 63,
   "metadata": {},
   "outputs": [],
   "source": [
    "msk_conversions = shp_ct_co[\"total_conversion\"] == 0\n",
    "shp_Oct_co_0 =  shp_ct_co[msk_conversions]\n",
    "msk_conversions = shp_ct_co[\"total_conversion\"] != 0\n",
    "shp_Oct_co_1 =  shp_ct_co[msk_conversions]"
   ]
  },
  {
   "cell_type": "code",
   "execution_count": 64,
   "metadata": {},
   "outputs": [
    {
     "data": {
      "text/plain": [
       "50"
      ]
     },
     "execution_count": 64,
     "metadata": {},
     "output_type": "execute_result"
    }
   ],
   "source": [
    "len(shp_Oct_co_0)"
   ]
  },
  {
   "cell_type": "code",
   "execution_count": 65,
   "metadata": {},
   "outputs": [
    {
     "data": {
      "text/plain": [
       "8"
      ]
     },
     "execution_count": 65,
     "metadata": {},
     "output_type": "execute_result"
    }
   ],
   "source": [
    "len(shp_Oct_co_1)"
   ]
  },
  {
   "cell_type": "markdown",
   "metadata": {},
   "source": [
    "#### 2 Grupos\n",
    "- Vemos que hay una fuerte diferencia entre los paises que tienen conversion positiva y aquellos que no."
   ]
  },
  {
   "cell_type": "markdown",
   "metadata": {},
   "source": [
    "- Ahora sobre aquellos que no tienen conversion vamos a ver cuales son aquellos en los que el avance ha sido mas significativo."
   ]
  },
  {
   "cell_type": "code",
   "execution_count": 66,
   "metadata": {},
   "outputs": [
    {
     "data": {
      "text/plain": [
       "11"
      ]
     },
     "execution_count": 66,
     "metadata": {},
     "output_type": "execute_result"
    }
   ],
   "source": [
    "msk_carts = shp_Oct_co_0[\"total_carts\"] != 0\n",
    "shp_Oct_co_0_1 =  shp_Oct_co_0[msk_carts]\n",
    "len(shp_Oct_co_0_1)"
   ]
  },
  {
   "cell_type": "markdown",
   "metadata": {},
   "source": [
    "Vemos que frente de los 50 paises en los cuales han habido visualizaciones la lista se ha reducido a 11 cuando esperamos que añadan al carrito."
   ]
  },
  {
   "cell_type": "markdown",
   "metadata": {},
   "source": [
    "Vamos a seleccionar aquellos paises donde se ha realizado campaña pero no se ha conseguido añadir al carrito."
   ]
  },
  {
   "cell_type": "code",
   "execution_count": 67,
   "metadata": {},
   "outputs": [
    {
     "name": "stdout",
     "output_type": "stream",
     "text": [
      "El numero de paises sin carrito es: 39\n",
      "El numero de visualizacion para paises sin carrito es: 324\n"
     ]
    }
   ],
   "source": [
    "msk_carts_0 = shp_Oct_co_0[\"total_carts\"] == 0\n",
    "shp_Oct_co_0_0 =  shp_Oct_co_0[msk_carts_0]\n",
    "\n",
    "paises_sc = len(shp_Oct_co_0_0)\n",
    "total_view = shp_Oct_co_0_0[\"total_sessions\"].sum()\n",
    "print(\"El numero de paises sin carrito es:\", paises_sc)\n",
    "print(\"El numero de visualizacion para paises sin carrito es:\", total_view)"
   ]
  }
 ],
 "metadata": {
  "kernelspec": {
   "display_name": "Python 3 (ipykernel)",
   "language": "python",
   "name": "python3"
  },
  "language_info": {
   "codemirror_mode": {
    "name": "ipython",
    "version": 3
   },
   "file_extension": ".py",
   "mimetype": "text/x-python",
   "name": "python",
   "nbconvert_exporter": "python",
   "pygments_lexer": "ipython3",
   "version": "3.9.13"
  }
 },
 "nbformat": 4,
 "nbformat_minor": 4
}
